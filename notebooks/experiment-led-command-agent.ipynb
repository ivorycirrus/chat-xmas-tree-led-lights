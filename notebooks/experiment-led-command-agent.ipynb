{
 "cells": [
  {
   "cell_type": "markdown",
   "id": "53682064-fcd3-4507-a564-d45302c22a6d",
   "metadata": {},
   "source": [
    "## Pre-requirements"
   ]
  },
  {
   "cell_type": "code",
   "execution_count": 338,
   "id": "7f8e5117-ebbf-484d-a687-ab720163de68",
   "metadata": {
    "scrolled": true
   },
   "outputs": [
    {
     "name": "stdout",
     "output_type": "stream",
     "text": [
      "Requirement already satisfied: awscli in /home/ec2-user/anaconda3/envs/pytorch_p310/lib/python3.10/site-packages (1.36.17)\n",
      "Collecting awscli\n",
      "  Downloading awscli-1.36.21-py3-none-any.whl.metadata (11 kB)\n",
      "Collecting botocore==1.35.80 (from awscli)\n",
      "  Downloading botocore-1.35.80-py3-none-any.whl.metadata (5.7 kB)\n",
      "Requirement already satisfied: docutils<0.17,>=0.10 in /home/ec2-user/anaconda3/envs/pytorch_p310/lib/python3.10/site-packages (from awscli) (0.16)\n",
      "Requirement already satisfied: s3transfer<0.11.0,>=0.10.0 in /home/ec2-user/anaconda3/envs/pytorch_p310/lib/python3.10/site-packages (from awscli) (0.10.3)\n",
      "Requirement already satisfied: PyYAML<6.1,>=3.10 in /home/ec2-user/anaconda3/envs/pytorch_p310/lib/python3.10/site-packages (from awscli) (6.0.2)\n",
      "Requirement already satisfied: colorama<0.4.7,>=0.2.5 in /home/ec2-user/anaconda3/envs/pytorch_p310/lib/python3.10/site-packages (from awscli) (0.4.6)\n",
      "Requirement already satisfied: rsa<4.8,>=3.1.2 in /home/ec2-user/anaconda3/envs/pytorch_p310/lib/python3.10/site-packages (from awscli) (4.7.2)\n",
      "Requirement already satisfied: jmespath<2.0.0,>=0.7.1 in /home/ec2-user/anaconda3/envs/pytorch_p310/lib/python3.10/site-packages (from botocore==1.35.80->awscli) (1.0.1)\n",
      "Requirement already satisfied: python-dateutil<3.0.0,>=2.1 in /home/ec2-user/anaconda3/envs/pytorch_p310/lib/python3.10/site-packages (from botocore==1.35.80->awscli) (2.9.0)\n",
      "Requirement already satisfied: urllib3!=2.2.0,<3,>=1.25.4 in /home/ec2-user/anaconda3/envs/pytorch_p310/lib/python3.10/site-packages (from botocore==1.35.80->awscli) (2.2.3)\n",
      "Requirement already satisfied: pyasn1>=0.1.3 in /home/ec2-user/anaconda3/envs/pytorch_p310/lib/python3.10/site-packages (from rsa<4.8,>=3.1.2->awscli) (0.6.1)\n",
      "Requirement already satisfied: six>=1.5 in /home/ec2-user/anaconda3/envs/pytorch_p310/lib/python3.10/site-packages (from python-dateutil<3.0.0,>=2.1->botocore==1.35.80->awscli) (1.16.0)\n",
      "Downloading awscli-1.36.21-py3-none-any.whl (4.5 MB)\n",
      "\u001b[2K   \u001b[90m━━━━━━━━━━━━━━━━━━━━━━━━━━━━━━━━━━━━━━━━\u001b[0m \u001b[32m4.5/4.5 MB\u001b[0m \u001b[31m97.2 MB/s\u001b[0m eta \u001b[36m0:00:00\u001b[0m\n",
      "\u001b[?25hDownloading botocore-1.35.80-py3-none-any.whl (13.3 MB)\n",
      "\u001b[2K   \u001b[90m━━━━━━━━━━━━━━━━━━━━━━━━━━━━━━━━━━━━━━━━\u001b[0m \u001b[32m13.3/13.3 MB\u001b[0m \u001b[31m125.9 MB/s\u001b[0m eta \u001b[36m0:00:00\u001b[0m\n",
      "\u001b[?25hInstalling collected packages: botocore, awscli\n",
      "  Attempting uninstall: botocore\n",
      "    Found existing installation: botocore 1.35.76\n",
      "    Uninstalling botocore-1.35.76:\n",
      "      Successfully uninstalled botocore-1.35.76\n",
      "  Attempting uninstall: awscli\n",
      "    Found existing installation: awscli 1.36.17\n",
      "    Uninstalling awscli-1.36.17:\n",
      "      Successfully uninstalled awscli-1.36.17\n",
      "Successfully installed awscli-1.36.21 botocore-1.35.80\n",
      "Note: you may need to restart the kernel to use updated packages.\n",
      "Requirement already satisfied: boto3 in /home/ec2-user/anaconda3/envs/pytorch_p310/lib/python3.10/site-packages (1.35.76)\n",
      "Collecting boto3\n",
      "  Downloading boto3-1.35.80-py3-none-any.whl.metadata (6.7 kB)\n",
      "Requirement already satisfied: botocore<1.36.0,>=1.35.80 in /home/ec2-user/anaconda3/envs/pytorch_p310/lib/python3.10/site-packages (from boto3) (1.35.80)\n",
      "Requirement already satisfied: jmespath<2.0.0,>=0.7.1 in /home/ec2-user/anaconda3/envs/pytorch_p310/lib/python3.10/site-packages (from boto3) (1.0.1)\n",
      "Requirement already satisfied: s3transfer<0.11.0,>=0.10.0 in /home/ec2-user/anaconda3/envs/pytorch_p310/lib/python3.10/site-packages (from boto3) (0.10.3)\n",
      "Requirement already satisfied: python-dateutil<3.0.0,>=2.1 in /home/ec2-user/anaconda3/envs/pytorch_p310/lib/python3.10/site-packages (from botocore<1.36.0,>=1.35.80->boto3) (2.9.0)\n",
      "Requirement already satisfied: urllib3!=2.2.0,<3,>=1.25.4 in /home/ec2-user/anaconda3/envs/pytorch_p310/lib/python3.10/site-packages (from botocore<1.36.0,>=1.35.80->boto3) (2.2.3)\n",
      "Requirement already satisfied: six>=1.5 in /home/ec2-user/anaconda3/envs/pytorch_p310/lib/python3.10/site-packages (from python-dateutil<3.0.0,>=2.1->botocore<1.36.0,>=1.35.80->boto3) (1.16.0)\n",
      "Downloading boto3-1.35.80-py3-none-any.whl (139 kB)\n",
      "Installing collected packages: boto3\n",
      "  Attempting uninstall: boto3\n",
      "    Found existing installation: boto3 1.35.76\n",
      "    Uninstalling boto3-1.35.76:\n",
      "      Successfully uninstalled boto3-1.35.76\n",
      "Successfully installed boto3-1.35.80\n",
      "Note: you may need to restart the kernel to use updated packages.\n",
      "Requirement already satisfied: langchain in /home/ec2-user/anaconda3/envs/pytorch_p310/lib/python3.10/site-packages (0.3.10)\n",
      "Collecting langchain\n",
      "  Downloading langchain-0.3.11-py3-none-any.whl.metadata (7.1 kB)\n",
      "Requirement already satisfied: langchain_community in /home/ec2-user/anaconda3/envs/pytorch_p310/lib/python3.10/site-packages (0.3.10)\n",
      "Collecting langchain_community\n",
      "  Downloading langchain_community-0.3.11-py3-none-any.whl.metadata (2.9 kB)\n",
      "Requirement already satisfied: langchain_aws in /home/ec2-user/anaconda3/envs/pytorch_p310/lib/python3.10/site-packages (0.2.9)\n",
      "Requirement already satisfied: PyYAML>=5.3 in /home/ec2-user/anaconda3/envs/pytorch_p310/lib/python3.10/site-packages (from langchain) (6.0.2)\n",
      "Requirement already satisfied: SQLAlchemy<3,>=1.4 in /home/ec2-user/anaconda3/envs/pytorch_p310/lib/python3.10/site-packages (from langchain) (2.0.36)\n",
      "Requirement already satisfied: aiohttp<4.0.0,>=3.8.3 in /home/ec2-user/anaconda3/envs/pytorch_p310/lib/python3.10/site-packages (from langchain) (3.11.10)\n",
      "Requirement already satisfied: async-timeout<5.0.0,>=4.0.0 in /home/ec2-user/anaconda3/envs/pytorch_p310/lib/python3.10/site-packages (from langchain) (4.0.3)\n",
      "Collecting langchain-core<0.4.0,>=0.3.24 (from langchain)\n",
      "  Downloading langchain_core-0.3.24-py3-none-any.whl.metadata (6.3 kB)\n",
      "Requirement already satisfied: langchain-text-splitters<0.4.0,>=0.3.0 in /home/ec2-user/anaconda3/envs/pytorch_p310/lib/python3.10/site-packages (from langchain) (0.3.2)\n",
      "Requirement already satisfied: langsmith<0.3,>=0.1.17 in /home/ec2-user/anaconda3/envs/pytorch_p310/lib/python3.10/site-packages (from langchain) (0.1.147)\n",
      "Requirement already satisfied: numpy<2,>=1.22.4 in /home/ec2-user/anaconda3/envs/pytorch_p310/lib/python3.10/site-packages (from langchain) (1.26.4)\n",
      "Requirement already satisfied: pydantic<3.0.0,>=2.7.4 in /home/ec2-user/anaconda3/envs/pytorch_p310/lib/python3.10/site-packages (from langchain) (2.9.2)\n",
      "Requirement already satisfied: requests<3,>=2 in /home/ec2-user/anaconda3/envs/pytorch_p310/lib/python3.10/site-packages (from langchain) (2.32.3)\n",
      "Requirement already satisfied: tenacity!=8.4.0,<10,>=8.1.0 in /home/ec2-user/anaconda3/envs/pytorch_p310/lib/python3.10/site-packages (from langchain) (9.0.0)\n",
      "Requirement already satisfied: dataclasses-json<0.7,>=0.5.7 in /home/ec2-user/anaconda3/envs/pytorch_p310/lib/python3.10/site-packages (from langchain_community) (0.6.7)\n",
      "Requirement already satisfied: httpx-sse<0.5.0,>=0.4.0 in /home/ec2-user/anaconda3/envs/pytorch_p310/lib/python3.10/site-packages (from langchain_community) (0.4.0)\n",
      "Requirement already satisfied: pydantic-settings<3.0.0,>=2.4.0 in /home/ec2-user/anaconda3/envs/pytorch_p310/lib/python3.10/site-packages (from langchain_community) (2.6.1)\n",
      "Requirement already satisfied: boto3>=1.35.74 in /home/ec2-user/anaconda3/envs/pytorch_p310/lib/python3.10/site-packages (from langchain_aws) (1.35.80)\n",
      "Requirement already satisfied: aiohappyeyeballs>=2.3.0 in /home/ec2-user/anaconda3/envs/pytorch_p310/lib/python3.10/site-packages (from aiohttp<4.0.0,>=3.8.3->langchain) (2.4.4)\n",
      "Requirement already satisfied: aiosignal>=1.1.2 in /home/ec2-user/anaconda3/envs/pytorch_p310/lib/python3.10/site-packages (from aiohttp<4.0.0,>=3.8.3->langchain) (1.3.1)\n",
      "Requirement already satisfied: attrs>=17.3.0 in /home/ec2-user/anaconda3/envs/pytorch_p310/lib/python3.10/site-packages (from aiohttp<4.0.0,>=3.8.3->langchain) (23.2.0)\n",
      "Requirement already satisfied: frozenlist>=1.1.1 in /home/ec2-user/anaconda3/envs/pytorch_p310/lib/python3.10/site-packages (from aiohttp<4.0.0,>=3.8.3->langchain) (1.5.0)\n",
      "Requirement already satisfied: multidict<7.0,>=4.5 in /home/ec2-user/anaconda3/envs/pytorch_p310/lib/python3.10/site-packages (from aiohttp<4.0.0,>=3.8.3->langchain) (6.1.0)\n",
      "Requirement already satisfied: propcache>=0.2.0 in /home/ec2-user/anaconda3/envs/pytorch_p310/lib/python3.10/site-packages (from aiohttp<4.0.0,>=3.8.3->langchain) (0.2.1)\n",
      "Requirement already satisfied: yarl<2.0,>=1.17.0 in /home/ec2-user/anaconda3/envs/pytorch_p310/lib/python3.10/site-packages (from aiohttp<4.0.0,>=3.8.3->langchain) (1.18.3)\n",
      "Requirement already satisfied: botocore<1.36.0,>=1.35.80 in /home/ec2-user/anaconda3/envs/pytorch_p310/lib/python3.10/site-packages (from boto3>=1.35.74->langchain_aws) (1.35.80)\n",
      "Requirement already satisfied: jmespath<2.0.0,>=0.7.1 in /home/ec2-user/anaconda3/envs/pytorch_p310/lib/python3.10/site-packages (from boto3>=1.35.74->langchain_aws) (1.0.1)\n",
      "Requirement already satisfied: s3transfer<0.11.0,>=0.10.0 in /home/ec2-user/anaconda3/envs/pytorch_p310/lib/python3.10/site-packages (from boto3>=1.35.74->langchain_aws) (0.10.3)\n",
      "Requirement already satisfied: marshmallow<4.0.0,>=3.18.0 in /home/ec2-user/anaconda3/envs/pytorch_p310/lib/python3.10/site-packages (from dataclasses-json<0.7,>=0.5.7->langchain_community) (3.23.1)\n",
      "Requirement already satisfied: typing-inspect<1,>=0.4.0 in /home/ec2-user/anaconda3/envs/pytorch_p310/lib/python3.10/site-packages (from dataclasses-json<0.7,>=0.5.7->langchain_community) (0.9.0)\n",
      "Requirement already satisfied: jsonpatch<2.0,>=1.33 in /home/ec2-user/anaconda3/envs/pytorch_p310/lib/python3.10/site-packages (from langchain-core<0.4.0,>=0.3.24->langchain) (1.33)\n",
      "Requirement already satisfied: packaging<25,>=23.2 in /home/ec2-user/anaconda3/envs/pytorch_p310/lib/python3.10/site-packages (from langchain-core<0.4.0,>=0.3.24->langchain) (24.2)\n",
      "Requirement already satisfied: typing-extensions>=4.7 in /home/ec2-user/anaconda3/envs/pytorch_p310/lib/python3.10/site-packages (from langchain-core<0.4.0,>=0.3.24->langchain) (4.12.2)\n",
      "Requirement already satisfied: httpx<1,>=0.23.0 in /home/ec2-user/anaconda3/envs/pytorch_p310/lib/python3.10/site-packages (from langsmith<0.3,>=0.1.17->langchain) (0.27.2)\n",
      "Requirement already satisfied: orjson<4.0.0,>=3.9.14 in /home/ec2-user/anaconda3/envs/pytorch_p310/lib/python3.10/site-packages (from langsmith<0.3,>=0.1.17->langchain) (3.10.12)\n",
      "Requirement already satisfied: requests-toolbelt<2.0.0,>=1.0.0 in /home/ec2-user/anaconda3/envs/pytorch_p310/lib/python3.10/site-packages (from langsmith<0.3,>=0.1.17->langchain) (1.0.0)\n",
      "Requirement already satisfied: annotated-types>=0.6.0 in /home/ec2-user/anaconda3/envs/pytorch_p310/lib/python3.10/site-packages (from pydantic<3.0.0,>=2.7.4->langchain) (0.7.0)\n",
      "Requirement already satisfied: pydantic-core==2.23.4 in /home/ec2-user/anaconda3/envs/pytorch_p310/lib/python3.10/site-packages (from pydantic<3.0.0,>=2.7.4->langchain) (2.23.4)\n",
      "Requirement already satisfied: python-dotenv>=0.21.0 in /home/ec2-user/anaconda3/envs/pytorch_p310/lib/python3.10/site-packages (from pydantic-settings<3.0.0,>=2.4.0->langchain_community) (1.0.1)\n",
      "Requirement already satisfied: charset-normalizer<4,>=2 in /home/ec2-user/anaconda3/envs/pytorch_p310/lib/python3.10/site-packages (from requests<3,>=2->langchain) (3.4.0)\n",
      "Requirement already satisfied: idna<4,>=2.5 in /home/ec2-user/anaconda3/envs/pytorch_p310/lib/python3.10/site-packages (from requests<3,>=2->langchain) (3.10)\n",
      "Requirement already satisfied: urllib3<3,>=1.21.1 in /home/ec2-user/anaconda3/envs/pytorch_p310/lib/python3.10/site-packages (from requests<3,>=2->langchain) (2.2.3)\n",
      "Requirement already satisfied: certifi>=2017.4.17 in /home/ec2-user/anaconda3/envs/pytorch_p310/lib/python3.10/site-packages (from requests<3,>=2->langchain) (2024.8.30)\n",
      "Requirement already satisfied: greenlet!=0.4.17 in /home/ec2-user/anaconda3/envs/pytorch_p310/lib/python3.10/site-packages (from SQLAlchemy<3,>=1.4->langchain) (3.1.1)\n",
      "Requirement already satisfied: python-dateutil<3.0.0,>=2.1 in /home/ec2-user/anaconda3/envs/pytorch_p310/lib/python3.10/site-packages (from botocore<1.36.0,>=1.35.80->boto3>=1.35.74->langchain_aws) (2.9.0)\n",
      "Requirement already satisfied: anyio in /home/ec2-user/anaconda3/envs/pytorch_p310/lib/python3.10/site-packages (from httpx<1,>=0.23.0->langsmith<0.3,>=0.1.17->langchain) (4.6.2.post1)\n",
      "Requirement already satisfied: httpcore==1.* in /home/ec2-user/anaconda3/envs/pytorch_p310/lib/python3.10/site-packages (from httpx<1,>=0.23.0->langsmith<0.3,>=0.1.17->langchain) (1.0.6)\n",
      "Requirement already satisfied: sniffio in /home/ec2-user/anaconda3/envs/pytorch_p310/lib/python3.10/site-packages (from httpx<1,>=0.23.0->langsmith<0.3,>=0.1.17->langchain) (1.3.1)\n",
      "Requirement already satisfied: h11<0.15,>=0.13 in /home/ec2-user/anaconda3/envs/pytorch_p310/lib/python3.10/site-packages (from httpcore==1.*->httpx<1,>=0.23.0->langsmith<0.3,>=0.1.17->langchain) (0.14.0)\n",
      "Requirement already satisfied: jsonpointer>=1.9 in /home/ec2-user/anaconda3/envs/pytorch_p310/lib/python3.10/site-packages (from jsonpatch<2.0,>=1.33->langchain-core<0.4.0,>=0.3.24->langchain) (3.0.0)\n",
      "Requirement already satisfied: mypy-extensions>=0.3.0 in /home/ec2-user/anaconda3/envs/pytorch_p310/lib/python3.10/site-packages (from typing-inspect<1,>=0.4.0->dataclasses-json<0.7,>=0.5.7->langchain_community) (1.0.0)\n",
      "Requirement already satisfied: six>=1.5 in /home/ec2-user/anaconda3/envs/pytorch_p310/lib/python3.10/site-packages (from python-dateutil<3.0.0,>=2.1->botocore<1.36.0,>=1.35.80->boto3>=1.35.74->langchain_aws) (1.16.0)\n",
      "Requirement already satisfied: exceptiongroup>=1.0.2 in /home/ec2-user/anaconda3/envs/pytorch_p310/lib/python3.10/site-packages (from anyio->httpx<1,>=0.23.0->langsmith<0.3,>=0.1.17->langchain) (1.2.2)\n",
      "Downloading langchain-0.3.11-py3-none-any.whl (1.0 MB)\n",
      "\u001b[2K   \u001b[90m━━━━━━━━━━━━━━━━━━━━━━━━━━━━━━━━━━━━━━━━\u001b[0m \u001b[32m1.0/1.0 MB\u001b[0m \u001b[31m67.8 MB/s\u001b[0m eta \u001b[36m0:00:00\u001b[0m\n",
      "\u001b[?25hDownloading langchain_community-0.3.11-py3-none-any.whl (2.5 MB)\n",
      "\u001b[2K   \u001b[90m━━━━━━━━━━━━━━━━━━━━━━━━━━━━━━━━━━━━━━━━\u001b[0m \u001b[32m2.5/2.5 MB\u001b[0m \u001b[31m123.9 MB/s\u001b[0m eta \u001b[36m0:00:00\u001b[0m\n",
      "\u001b[?25hDownloading langchain_core-0.3.24-py3-none-any.whl (410 kB)\n",
      "Installing collected packages: langchain-core, langchain, langchain_community\n",
      "  Attempting uninstall: langchain-core\n",
      "    Found existing installation: langchain-core 0.3.22\n",
      "    Uninstalling langchain-core-0.3.22:\n",
      "      Successfully uninstalled langchain-core-0.3.22\n",
      "  Attempting uninstall: langchain\n",
      "    Found existing installation: langchain 0.3.10\n",
      "    Uninstalling langchain-0.3.10:\n",
      "      Successfully uninstalled langchain-0.3.10\n",
      "  Attempting uninstall: langchain_community\n",
      "    Found existing installation: langchain-community 0.3.10\n",
      "    Uninstalling langchain-community-0.3.10:\n",
      "      Successfully uninstalled langchain-community-0.3.10\n",
      "Successfully installed langchain-0.3.11 langchain-core-0.3.24 langchain_community-0.3.11\n",
      "Note: you may need to restart the kernel to use updated packages.\n",
      "Requirement already satisfied: langgraph in /home/ec2-user/anaconda3/envs/pytorch_p310/lib/python3.10/site-packages (0.2.56)\n",
      "Collecting langgraph\n",
      "  Downloading langgraph-0.2.59-py3-none-any.whl.metadata (15 kB)\n",
      "Requirement already satisfied: langchain-core!=0.3.0,!=0.3.1,!=0.3.10,!=0.3.11,!=0.3.12,!=0.3.13,!=0.3.14,!=0.3.15,!=0.3.16,!=0.3.17,!=0.3.18,!=0.3.19,!=0.3.2,!=0.3.20,!=0.3.21,!=0.3.22,!=0.3.3,!=0.3.4,!=0.3.5,!=0.3.6,!=0.3.7,!=0.3.8,!=0.3.9,<0.4.0,>=0.2.43 in /home/ec2-user/anaconda3/envs/pytorch_p310/lib/python3.10/site-packages (from langgraph) (0.3.24)\n",
      "Requirement already satisfied: langgraph-checkpoint<3.0.0,>=2.0.4 in /home/ec2-user/anaconda3/envs/pytorch_p310/lib/python3.10/site-packages (from langgraph) (2.0.8)\n",
      "Requirement already satisfied: langgraph-sdk<0.2.0,>=0.1.42 in /home/ec2-user/anaconda3/envs/pytorch_p310/lib/python3.10/site-packages (from langgraph) (0.1.43)\n",
      "Requirement already satisfied: PyYAML>=5.3 in /home/ec2-user/anaconda3/envs/pytorch_p310/lib/python3.10/site-packages (from langchain-core!=0.3.0,!=0.3.1,!=0.3.10,!=0.3.11,!=0.3.12,!=0.3.13,!=0.3.14,!=0.3.15,!=0.3.16,!=0.3.17,!=0.3.18,!=0.3.19,!=0.3.2,!=0.3.20,!=0.3.21,!=0.3.22,!=0.3.3,!=0.3.4,!=0.3.5,!=0.3.6,!=0.3.7,!=0.3.8,!=0.3.9,<0.4.0,>=0.2.43->langgraph) (6.0.2)\n",
      "Requirement already satisfied: jsonpatch<2.0,>=1.33 in /home/ec2-user/anaconda3/envs/pytorch_p310/lib/python3.10/site-packages (from langchain-core!=0.3.0,!=0.3.1,!=0.3.10,!=0.3.11,!=0.3.12,!=0.3.13,!=0.3.14,!=0.3.15,!=0.3.16,!=0.3.17,!=0.3.18,!=0.3.19,!=0.3.2,!=0.3.20,!=0.3.21,!=0.3.22,!=0.3.3,!=0.3.4,!=0.3.5,!=0.3.6,!=0.3.7,!=0.3.8,!=0.3.9,<0.4.0,>=0.2.43->langgraph) (1.33)\n",
      "Requirement already satisfied: langsmith<0.3,>=0.1.125 in /home/ec2-user/anaconda3/envs/pytorch_p310/lib/python3.10/site-packages (from langchain-core!=0.3.0,!=0.3.1,!=0.3.10,!=0.3.11,!=0.3.12,!=0.3.13,!=0.3.14,!=0.3.15,!=0.3.16,!=0.3.17,!=0.3.18,!=0.3.19,!=0.3.2,!=0.3.20,!=0.3.21,!=0.3.22,!=0.3.3,!=0.3.4,!=0.3.5,!=0.3.6,!=0.3.7,!=0.3.8,!=0.3.9,<0.4.0,>=0.2.43->langgraph) (0.1.147)\n",
      "Requirement already satisfied: packaging<25,>=23.2 in /home/ec2-user/anaconda3/envs/pytorch_p310/lib/python3.10/site-packages (from langchain-core!=0.3.0,!=0.3.1,!=0.3.10,!=0.3.11,!=0.3.12,!=0.3.13,!=0.3.14,!=0.3.15,!=0.3.16,!=0.3.17,!=0.3.18,!=0.3.19,!=0.3.2,!=0.3.20,!=0.3.21,!=0.3.22,!=0.3.3,!=0.3.4,!=0.3.5,!=0.3.6,!=0.3.7,!=0.3.8,!=0.3.9,<0.4.0,>=0.2.43->langgraph) (24.2)\n",
      "Requirement already satisfied: pydantic<3.0.0,>=2.5.2 in /home/ec2-user/anaconda3/envs/pytorch_p310/lib/python3.10/site-packages (from langchain-core!=0.3.0,!=0.3.1,!=0.3.10,!=0.3.11,!=0.3.12,!=0.3.13,!=0.3.14,!=0.3.15,!=0.3.16,!=0.3.17,!=0.3.18,!=0.3.19,!=0.3.2,!=0.3.20,!=0.3.21,!=0.3.22,!=0.3.3,!=0.3.4,!=0.3.5,!=0.3.6,!=0.3.7,!=0.3.8,!=0.3.9,<0.4.0,>=0.2.43->langgraph) (2.9.2)\n",
      "Requirement already satisfied: tenacity!=8.4.0,<10.0.0,>=8.1.0 in /home/ec2-user/anaconda3/envs/pytorch_p310/lib/python3.10/site-packages (from langchain-core!=0.3.0,!=0.3.1,!=0.3.10,!=0.3.11,!=0.3.12,!=0.3.13,!=0.3.14,!=0.3.15,!=0.3.16,!=0.3.17,!=0.3.18,!=0.3.19,!=0.3.2,!=0.3.20,!=0.3.21,!=0.3.22,!=0.3.3,!=0.3.4,!=0.3.5,!=0.3.6,!=0.3.7,!=0.3.8,!=0.3.9,<0.4.0,>=0.2.43->langgraph) (9.0.0)\n",
      "Requirement already satisfied: typing-extensions>=4.7 in /home/ec2-user/anaconda3/envs/pytorch_p310/lib/python3.10/site-packages (from langchain-core!=0.3.0,!=0.3.1,!=0.3.10,!=0.3.11,!=0.3.12,!=0.3.13,!=0.3.14,!=0.3.15,!=0.3.16,!=0.3.17,!=0.3.18,!=0.3.19,!=0.3.2,!=0.3.20,!=0.3.21,!=0.3.22,!=0.3.3,!=0.3.4,!=0.3.5,!=0.3.6,!=0.3.7,!=0.3.8,!=0.3.9,<0.4.0,>=0.2.43->langgraph) (4.12.2)\n",
      "Requirement already satisfied: msgpack<2.0.0,>=1.1.0 in /home/ec2-user/anaconda3/envs/pytorch_p310/lib/python3.10/site-packages (from langgraph-checkpoint<3.0.0,>=2.0.4->langgraph) (1.1.0)\n",
      "Requirement already satisfied: httpx>=0.25.2 in /home/ec2-user/anaconda3/envs/pytorch_p310/lib/python3.10/site-packages (from langgraph-sdk<0.2.0,>=0.1.42->langgraph) (0.27.2)\n",
      "Requirement already satisfied: orjson>=3.10.1 in /home/ec2-user/anaconda3/envs/pytorch_p310/lib/python3.10/site-packages (from langgraph-sdk<0.2.0,>=0.1.42->langgraph) (3.10.12)\n",
      "Requirement already satisfied: anyio in /home/ec2-user/anaconda3/envs/pytorch_p310/lib/python3.10/site-packages (from httpx>=0.25.2->langgraph-sdk<0.2.0,>=0.1.42->langgraph) (4.6.2.post1)\n",
      "Requirement already satisfied: certifi in /home/ec2-user/anaconda3/envs/pytorch_p310/lib/python3.10/site-packages (from httpx>=0.25.2->langgraph-sdk<0.2.0,>=0.1.42->langgraph) (2024.8.30)\n",
      "Requirement already satisfied: httpcore==1.* in /home/ec2-user/anaconda3/envs/pytorch_p310/lib/python3.10/site-packages (from httpx>=0.25.2->langgraph-sdk<0.2.0,>=0.1.42->langgraph) (1.0.6)\n",
      "Requirement already satisfied: idna in /home/ec2-user/anaconda3/envs/pytorch_p310/lib/python3.10/site-packages (from httpx>=0.25.2->langgraph-sdk<0.2.0,>=0.1.42->langgraph) (3.10)\n",
      "Requirement already satisfied: sniffio in /home/ec2-user/anaconda3/envs/pytorch_p310/lib/python3.10/site-packages (from httpx>=0.25.2->langgraph-sdk<0.2.0,>=0.1.42->langgraph) (1.3.1)\n",
      "Requirement already satisfied: h11<0.15,>=0.13 in /home/ec2-user/anaconda3/envs/pytorch_p310/lib/python3.10/site-packages (from httpcore==1.*->httpx>=0.25.2->langgraph-sdk<0.2.0,>=0.1.42->langgraph) (0.14.0)\n",
      "Requirement already satisfied: jsonpointer>=1.9 in /home/ec2-user/anaconda3/envs/pytorch_p310/lib/python3.10/site-packages (from jsonpatch<2.0,>=1.33->langchain-core!=0.3.0,!=0.3.1,!=0.3.10,!=0.3.11,!=0.3.12,!=0.3.13,!=0.3.14,!=0.3.15,!=0.3.16,!=0.3.17,!=0.3.18,!=0.3.19,!=0.3.2,!=0.3.20,!=0.3.21,!=0.3.22,!=0.3.3,!=0.3.4,!=0.3.5,!=0.3.6,!=0.3.7,!=0.3.8,!=0.3.9,<0.4.0,>=0.2.43->langgraph) (3.0.0)\n",
      "Requirement already satisfied: requests<3,>=2 in /home/ec2-user/anaconda3/envs/pytorch_p310/lib/python3.10/site-packages (from langsmith<0.3,>=0.1.125->langchain-core!=0.3.0,!=0.3.1,!=0.3.10,!=0.3.11,!=0.3.12,!=0.3.13,!=0.3.14,!=0.3.15,!=0.3.16,!=0.3.17,!=0.3.18,!=0.3.19,!=0.3.2,!=0.3.20,!=0.3.21,!=0.3.22,!=0.3.3,!=0.3.4,!=0.3.5,!=0.3.6,!=0.3.7,!=0.3.8,!=0.3.9,<0.4.0,>=0.2.43->langgraph) (2.32.3)\n",
      "Requirement already satisfied: requests-toolbelt<2.0.0,>=1.0.0 in /home/ec2-user/anaconda3/envs/pytorch_p310/lib/python3.10/site-packages (from langsmith<0.3,>=0.1.125->langchain-core!=0.3.0,!=0.3.1,!=0.3.10,!=0.3.11,!=0.3.12,!=0.3.13,!=0.3.14,!=0.3.15,!=0.3.16,!=0.3.17,!=0.3.18,!=0.3.19,!=0.3.2,!=0.3.20,!=0.3.21,!=0.3.22,!=0.3.3,!=0.3.4,!=0.3.5,!=0.3.6,!=0.3.7,!=0.3.8,!=0.3.9,<0.4.0,>=0.2.43->langgraph) (1.0.0)\n",
      "Requirement already satisfied: annotated-types>=0.6.0 in /home/ec2-user/anaconda3/envs/pytorch_p310/lib/python3.10/site-packages (from pydantic<3.0.0,>=2.5.2->langchain-core!=0.3.0,!=0.3.1,!=0.3.10,!=0.3.11,!=0.3.12,!=0.3.13,!=0.3.14,!=0.3.15,!=0.3.16,!=0.3.17,!=0.3.18,!=0.3.19,!=0.3.2,!=0.3.20,!=0.3.21,!=0.3.22,!=0.3.3,!=0.3.4,!=0.3.5,!=0.3.6,!=0.3.7,!=0.3.8,!=0.3.9,<0.4.0,>=0.2.43->langgraph) (0.7.0)\n",
      "Requirement already satisfied: pydantic-core==2.23.4 in /home/ec2-user/anaconda3/envs/pytorch_p310/lib/python3.10/site-packages (from pydantic<3.0.0,>=2.5.2->langchain-core!=0.3.0,!=0.3.1,!=0.3.10,!=0.3.11,!=0.3.12,!=0.3.13,!=0.3.14,!=0.3.15,!=0.3.16,!=0.3.17,!=0.3.18,!=0.3.19,!=0.3.2,!=0.3.20,!=0.3.21,!=0.3.22,!=0.3.3,!=0.3.4,!=0.3.5,!=0.3.6,!=0.3.7,!=0.3.8,!=0.3.9,<0.4.0,>=0.2.43->langgraph) (2.23.4)\n",
      "Requirement already satisfied: charset-normalizer<4,>=2 in /home/ec2-user/anaconda3/envs/pytorch_p310/lib/python3.10/site-packages (from requests<3,>=2->langsmith<0.3,>=0.1.125->langchain-core!=0.3.0,!=0.3.1,!=0.3.10,!=0.3.11,!=0.3.12,!=0.3.13,!=0.3.14,!=0.3.15,!=0.3.16,!=0.3.17,!=0.3.18,!=0.3.19,!=0.3.2,!=0.3.20,!=0.3.21,!=0.3.22,!=0.3.3,!=0.3.4,!=0.3.5,!=0.3.6,!=0.3.7,!=0.3.8,!=0.3.9,<0.4.0,>=0.2.43->langgraph) (3.4.0)\n",
      "Requirement already satisfied: urllib3<3,>=1.21.1 in /home/ec2-user/anaconda3/envs/pytorch_p310/lib/python3.10/site-packages (from requests<3,>=2->langsmith<0.3,>=0.1.125->langchain-core!=0.3.0,!=0.3.1,!=0.3.10,!=0.3.11,!=0.3.12,!=0.3.13,!=0.3.14,!=0.3.15,!=0.3.16,!=0.3.17,!=0.3.18,!=0.3.19,!=0.3.2,!=0.3.20,!=0.3.21,!=0.3.22,!=0.3.3,!=0.3.4,!=0.3.5,!=0.3.6,!=0.3.7,!=0.3.8,!=0.3.9,<0.4.0,>=0.2.43->langgraph) (2.2.3)\n",
      "Requirement already satisfied: exceptiongroup>=1.0.2 in /home/ec2-user/anaconda3/envs/pytorch_p310/lib/python3.10/site-packages (from anyio->httpx>=0.25.2->langgraph-sdk<0.2.0,>=0.1.42->langgraph) (1.2.2)\n",
      "Downloading langgraph-0.2.59-py3-none-any.whl (135 kB)\n",
      "Installing collected packages: langgraph\n",
      "  Attempting uninstall: langgraph\n",
      "    Found existing installation: langgraph 0.2.56\n",
      "    Uninstalling langgraph-0.2.56:\n",
      "      Successfully uninstalled langgraph-0.2.56\n",
      "Successfully installed langgraph-0.2.59\n",
      "Note: you may need to restart the kernel to use updated packages.\n"
     ]
    }
   ],
   "source": [
    "#Install dependencies\n",
    "\n",
    "#AWS python sdk\n",
    "%pip install -U awscli\n",
    "%pip install -U boto3\n",
    "\n",
    "#Langchain\n",
    "%pip install -U langchain langchain_community langchain_aws\n",
    "%pip install -U langgraph\n"
   ]
  },
  {
   "cell_type": "code",
   "execution_count": 214,
   "id": "b6cfe38e-22a4-414c-9253-7c27d318caec",
   "metadata": {},
   "outputs": [
    {
     "data": {
      "text/plain": [
       "Session(region_name='us-east-1')"
      ]
     },
     "execution_count": 214,
     "metadata": {},
     "output_type": "execute_result"
    }
   ],
   "source": [
    "# Initialize AWS SDK\n",
    "\n",
    "import json\n",
    "import boto3\n",
    "from botocore.config import Config\n",
    "\n",
    "session = boto3.Session()\n",
    "\n",
    "bedrock_client = session.client(\n",
    "    service_name='bedrock-runtime',\n",
    "    config=Config(\n",
    "        read_timeout=3600,\n",
    "        connect_timeout=3600,\n",
    "        retries={\"max_attempts\": 0}\n",
    "    )\n",
    ")\n",
    "\n",
    "from langchain_aws.chat_models import ChatBedrockConverse\n",
    "from langchain_core.messages import HumanMessage, SystemMessage\n",
    "\n",
    "bedrock_chat_model = \"anthropic.claude-3-sonnet-20240229-v1:0\"\n",
    "#bedrock_chat_model = \"amazon.nova-pro-v1:0\"\n",
    "#bedrock_chat_model = \"amazon.nova-lite-v1:0\"\n",
    "#bedrock_chat_model = \"amazon.nova-micro-v1:0\"\n",
    "\n",
    "bedrock_chat = ChatBedrockConverse(\n",
    "    client=bedrock_client,\n",
    "    model_id=bedrock_chat_model,\n",
    "    temperature=0.3,\n",
    "    max_tokens=4096\n",
    ")\n",
    "\n",
    "session"
   ]
  },
  {
   "cell_type": "markdown",
   "id": "31adcfac-b71e-48d3-9fee-a371241a61c4",
   "metadata": {},
   "source": [
    "## LED light Prompt Test"
   ]
  },
  {
   "cell_type": "code",
   "execution_count": 247,
   "id": "8135d2ec-a399-4d47-9ec5-880332321170",
   "metadata": {},
   "outputs": [],
   "source": [
    "LEDCMD_SYSTEM_MSG = \"\"\"\n",
    "You are an helpful AI light art designer that creating media art using LED lights for humans.\n",
    "\n",
    "The human request in <query> tag.\n",
    "The number LED lights is in <num_of_leds> and, the description of the pattern of led lights is in <description> tag.\n",
    "\n",
    "You can turn on LED lights by specifying a color expressed in RGB(red, green, blue).\n",
    "And also you can turn off LED lights for setting black color, represented [0,0,0].\n",
    "If the state of the LED is specified, it remains in state until it is changed again. \n",
    "You can maintain the state by specifying a sleep time.\n",
    "\n",
    "COMMAND GENERATION CRITERIA:\n",
    "- You have to create list of commands which formatted by JSON Array.\n",
    "- The command lists are executed sequentialy.\n",
    "- If 'repeat' command sets true, entire command list are repeated infinitely.\n",
    "\n",
    "COMMAND DEFINITIONS:\n",
    "- The indicator of LEDs starts at 0, and you can use the following command to specify the state of the LED.\n",
    "- There are 3 of commands, 'set', 'sleep', 'repeat'. this commands represented in JSON format.\n",
    "- The 'set' command changes color of LED lights. \n",
    "    - Change the color of the LED between 'led_id_from' and 'led_id_to'. \n",
    "    - 'color' means the value of [red, green, blue], and each color has a value between 0 and 255.\n",
    "- The 'sleep' command allows how much time stayed current color pattern. \n",
    "    - 'milis' means how long you have to wait in miliseconds\n",
    "- The 'repeat' command sets whether to repeat the entire list of commands.\n",
    "- Commands for setting colors are sequentially accumulated. \n",
    "    - For example, if you set red for numbers 1 and 2 and yellow for numbers 2 and 3, red is finally displayed at number 1 and yellow in numbers 2 and 3.    \n",
    "\n",
    "CONSTRAINTS:\n",
    "- If you want to show the color, you must use the 'sleep' command for as long as you want.\n",
    "- If commands list don't have sleep, please set 1000 miliseconds sleep by default.\n",
    "\n",
    "COMMAND EXAMPLES:\n",
    "<commands>\n",
    "    <set>\n",
    "        {{\n",
    "            \"cmd\": \"set\",\n",
    "            \"led_id_from\": int,\n",
    "            \"led_id_to\": int,\n",
    "            \"color\": [int, int, int]\n",
    "        }}\n",
    "    </set>\n",
    "    <sleep>\n",
    "        {{\n",
    "            \"cmd\": \"sleep\",\n",
    "            \"milis\": int\n",
    "        }}\n",
    "    </sleep>\n",
    "    <repeat>\n",
    "        {{\n",
    "            \"cmd\": \"repeat\",\n",
    "            \"repeat\": boolean\n",
    "        }}\n",
    "    </repeat>\n",
    "</commands>\n",
    "\n",
    "EXAMPLES:\n",
    "Here are 2 of example of query and commands.\n",
    "<example>\n",
    "    <query>\n",
    "        <num_of_leds>3</num_of_leds>\n",
    "        <description>Blink all LEDS like as white star</description>\n",
    "    </query>\n",
    "    </command>\n",
    "        [\n",
    "            {{ \"cmd\": \"sleep\", \"milis\": 3000 }},\n",
    "            {{ \"cmd\" : \"set\" , \"led_id_from\": 0, \"led_id_to\": 2, \"color\": [255, 255, 255] }},\n",
    "            {{ \"cmd\": \"sleep\", \"milis\": 3000 }},\n",
    "            {{ \"cmd\" : \"set\" , \"led_id_from\": 0, \"led_id_to\": 2, \"color\": [0, 0, 0] }}\n",
    "        ]\n",
    "    </command>\n",
    "</example>\n",
    "<example>\n",
    "    <query>\n",
    "        <num_of_leds>5</num_of_leds>\n",
    "        <description>Move red light left to right once</description>\n",
    "    </query>\n",
    "    </command>\n",
    "        [\n",
    "            {{ \"cmd\" : \"set\" , \"led_id_from\": 0, \"led_id_to\": 4, \"color\": [0, 0, 0] }},\n",
    "            {{ \"cmd\" : \"set\" , \"led_id_from\": 0, \"led_id_to\": 0, \"color\": [255, 0, 0] }},\n",
    "            {{ \"cmd\": \"sleep\", \"milis\": 1000 }},\n",
    "            {{ \"cmd\" : \"set\" , \"led_id_from\": 0, \"led_id_to\": 4, \"color\": [0, 0, 0] }},\n",
    "            {{ \"cmd\" : \"set\" , \"led_id_from\": 1, \"led_id_to\": 1, \"color\": [255, 0, 0] }},\n",
    "            {{ \"cmd\": \"sleep\", \"milis\": 1000 }},\n",
    "            {{ \"cmd\" : \"set\" , \"led_id_from\": 0, \"led_id_to\": 4, \"color\": [0, 0, 0] }},\n",
    "            {{ \"cmd\" : \"set\" , \"led_id_from\": 2, \"led_id_to\": 2, \"color\": [255, 0, 0] }},\n",
    "            {{ \"cmd\": \"sleep\", \"milis\": 1000 }},\n",
    "            {{ \"cmd\" : \"set\" , \"led_id_from\": 0, \"led_id_to\": 4, \"color\": [0, 0, 0] }},\n",
    "            {{ \"cmd\" : \"set\" , \"led_id_from\": 3, \"led_id_to\": 3, \"color\": [255, 0, 0] }},\n",
    "            {{ \"cmd\": \"sleep\", \"milis\": 1000 }},\n",
    "            {{ \"cmd\" : \"set\" , \"led_id_from\": 0, \"led_id_to\": 4, \"color\": [0, 0, 0] }},\n",
    "            {{ \"cmd\" : \"set\" , \"led_id_from\": 4, \"led_id_to\": 4, \"color\": [255, 0, 0] }},\n",
    "            {{ \"cmd\": \"sleep\", \"milis\": 1000 }},\n",
    "            {{ \"cmd\" : \"set\" , \"led_id_from\": 0, \"led_id_to\": 2, \"color\": [0, 0, 0] }},\n",
    "            {{ \"cmd\": \"repeat\", \"repeat\": false }}\n",
    "        ]\n",
    "    </command>\n",
    "</example>\n",
    "\"\"\".strip()\n",
    "\n",
    "LEDCMD_HUMAN_QUERY=\"\"\"\n",
    "Query:\n",
    "<query>\n",
    "    <num_of_leds>{num_of_leds}</num_of_leds>\n",
    "    <description>{query}</description>\n",
    "</query>\n",
    "\n",
    "Commands:\n",
    "\"\"\".strip()"
   ]
  },
  {
   "cell_type": "code",
   "execution_count": 122,
   "id": "97dbb109-35f9-4882-8424-b717f834c6fd",
   "metadata": {},
   "outputs": [],
   "source": [
    "from langchain_aws import ChatBedrock\n",
    "from langchain_core.messages import HumanMessage, SystemMessage\n",
    "from langchain_core.prompts import ChatPromptTemplate\n",
    "\n",
    "template = ChatPromptTemplate.from_messages([\n",
    "    (\"system\", LEDCMD_SYSTEM_MSG),\n",
    "    (\"human\",LEDCMD_HUMAN_QUERY),\n",
    "])"
   ]
  },
  {
   "cell_type": "code",
   "execution_count": 210,
   "id": "da1f4aea-c100-4bc8-aed4-f263298c0f87",
   "metadata": {},
   "outputs": [],
   "source": [
    "num_of_leds = 3\n",
    "query = \"blink twice like a star\"\n",
    "\n",
    "messages = template.format_messages(num_of_leds=num_of_leds, query=query)"
   ]
  },
  {
   "cell_type": "code",
   "execution_count": 211,
   "id": "adf6cd21-223e-441a-a2c4-20526015afa2",
   "metadata": {},
   "outputs": [
    {
     "name": "stdout",
     "output_type": "stream",
     "text": [
      "Query:\n",
      "<query>\n",
      "    <num_of_leds>3</num_of_leds>\n",
      "    <description>blink twice like a star</description>\n",
      "</query>\n",
      "\n",
      "Commands:\n"
     ]
    }
   ],
   "source": [
    "print(messages[1].content)"
   ]
  },
  {
   "cell_type": "code",
   "execution_count": 215,
   "id": "b9bbc316-14e6-4f76-ba26-9d36a3eb426a",
   "metadata": {},
   "outputs": [],
   "source": [
    "ai_msg = bedrock_chat.invoke(messages)"
   ]
  },
  {
   "cell_type": "code",
   "execution_count": 216,
   "id": "fa261e13-47bb-47a6-98b1-33808931cb80",
   "metadata": {},
   "outputs": [
    {
     "name": "stdout",
     "output_type": "stream",
     "text": [
      "Here are the commands to blink 3 LEDs twice like a star:\n",
      "\n",
      "[\n",
      "  { \"cmd\": \"sleep\", \"milis\": 1000 },\n",
      "  { \"cmd\": \"set\", \"led_id_from\": 0, \"led_id_to\": 2, \"color\": [255, 255, 255] },\n",
      "  { \"cmd\": \"sleep\", \"milis\": 1000 },\n",
      "  { \"cmd\": \"set\", \"led_id_from\": 0, \"led_id_to\": 2, \"color\": [0, 0, 0] },\n",
      "  { \"cmd\": \"sleep\", \"milis\": 1000 },\n",
      "  { \"cmd\": \"set\", \"led_id_from\": 0, \"led_id_to\": 2, \"color\": [255, 255, 255] },\n",
      "  { \"cmd\": \"sleep\", \"milis\": 1000 },\n",
      "  { \"cmd\": \"set\", \"led_id_from\": 0, \"led_id_to\": 2, \"color\": [0, 0, 0] },\n",
      "  { \"cmd\": \"repeat\", \"repeat\": false }\n",
      "]\n"
     ]
    }
   ],
   "source": [
    "print(ai_msg.content)"
   ]
  },
  {
   "cell_type": "code",
   "execution_count": 217,
   "id": "f53074db-73ac-4ad6-a68d-fd794f903797",
   "metadata": {},
   "outputs": [],
   "source": [
    "from typing import List, Union\n",
    "from pydantic import BaseModel\n",
    "\n",
    "# 출력 구조를 정의하는 TypedDict 클래스들\n",
    "class SetCommand(BaseModel):\n",
    "    \"\"\"The 'set' command changes color of LED lights. Change the color of the LED between 'led_id_from' and 'led_id_to'. 'color' means the value of [red, green, blue], and each color has a value between 0 and 255.\"\"\"\n",
    "    cmd: str  # \"set\"\n",
    "    led_id_from: int\n",
    "    led_id_to: int\n",
    "    color: List[int]\n",
    "\n",
    "class SleepCommand(BaseModel):\n",
    "    \"\"\"The 'sleep' command allows how much time waited. 'milis' means how long you have to wait in miliseconds\"\"\"\n",
    "    cmd: str  # \"sleep\"\n",
    "    milis: int\n",
    "\n",
    "class RepeatCommand(BaseModel):\n",
    "    \"\"\"The 'repeat' command sets whether to repeat the entire list of commands. This command can only be used once at the end of the entire command list, and is ignored if defined in the middle.\"\"\"\n",
    "    cmd: str  # \"repeat\"\n",
    "    repeat: bool\n",
    "\n",
    "# 전체 명령 리스트의 타입 정의\n",
    "class LedCommandList(BaseModel):\n",
    "    \"\"\"A super set of LED command lists.\"\"\"\n",
    "    commands: List[Union[SetCommand, SleepCommand, RepeatCommand]]"
   ]
  },
  {
   "cell_type": "code",
   "execution_count": 225,
   "id": "9ba33af3-fffe-4042-829b-2f51910fd155",
   "metadata": {
    "scrolled": true
   },
   "outputs": [],
   "source": [
    "num_of_leds = 30\n",
    "query = \"Exciting christmas party with Santa Claus. Santa Claus, dressed in red, walks in while dancing with a green bag. Exciting music and lights continue throughout the party. It would be nice if the color changes slightly and shakes.\"\n",
    "\n",
    "# num_of_leds = 3\n",
    "# query = \"blink twice like a star\"\n",
    "\n",
    "chain = template | bedrock_chat.with_structured_output(LedCommandList)\n",
    "response = chain.invoke({\"num_of_leds\":num_of_leds, \"query\": query})"
   ]
  },
  {
   "cell_type": "code",
   "execution_count": 226,
   "id": "f9c6ba9d-b3b3-46e6-965d-2ae173a11998",
   "metadata": {},
   "outputs": [
    {
     "name": "stdout",
     "output_type": "stream",
     "text": [
      "[SetCommand(cmd='set', led_id_from=0, led_id_to=29, color=[0, 0, 0]),\n",
      " SetCommand(cmd='set', led_id_from=0, led_id_to=4, color=[255, 0, 0]),\n",
      " SleepCommand(cmd='sleep', milis=500),\n",
      " SetCommand(cmd='set', led_id_from=5, led_id_to=9, color=[255, 0, 0]),\n",
      " SleepCommand(cmd='sleep', milis=500),\n",
      " SetCommand(cmd='set', led_id_from=10, led_id_to=14, color=[255, 0, 0]),\n",
      " SleepCommand(cmd='sleep', milis=500),\n",
      " SetCommand(cmd='set', led_id_from=15, led_id_to=19, color=[0, 255, 0]),\n",
      " SleepCommand(cmd='sleep', milis=500),\n",
      " SetCommand(cmd='set', led_id_from=20, led_id_to=24, color=[0, 255, 0]),\n",
      " SleepCommand(cmd='sleep', milis=500),\n",
      " SetCommand(cmd='set', led_id_from=25, led_id_to=29, color=[0, 255, 0]),\n",
      " SleepCommand(cmd='sleep', milis=1000),\n",
      " SetCommand(cmd='set', led_id_from=0, led_id_to=29, color=[255, 165, 0]),\n",
      " SleepCommand(cmd='sleep', milis=500),\n",
      " SetCommand(cmd='set', led_id_from=0, led_id_to=29, color=[255, 0, 0]),\n",
      " SleepCommand(cmd='sleep', milis=500),\n",
      " SetCommand(cmd='set', led_id_from=0, led_id_to=29, color=[0, 255, 0]),\n",
      " SleepCommand(cmd='sleep', milis=500),\n",
      " RepeatCommand(cmd='repeat', repeat=True)]\n"
     ]
    }
   ],
   "source": [
    "pprint(response.commands)"
   ]
  },
  {
   "cell_type": "code",
   "execution_count": 227,
   "id": "9b825f33-da30-4dd5-b21d-59d4e6c049e4",
   "metadata": {},
   "outputs": [
    {
     "data": {
      "text/plain": [
       "'{\"commands\":[{\"cmd\":\"set\",\"led_id_from\":0,\"led_id_to\":29,\"color\":[0,0,0]},{\"cmd\":\"set\",\"led_id_from\":0,\"led_id_to\":4,\"color\":[255,0,0]},{\"cmd\":\"sleep\",\"milis\":500},{\"cmd\":\"set\",\"led_id_from\":5,\"led_id_to\":9,\"color\":[255,0,0]},{\"cmd\":\"sleep\",\"milis\":500},{\"cmd\":\"set\",\"led_id_from\":10,\"led_id_to\":14,\"color\":[255,0,0]},{\"cmd\":\"sleep\",\"milis\":500},{\"cmd\":\"set\",\"led_id_from\":15,\"led_id_to\":19,\"color\":[0,255,0]},{\"cmd\":\"sleep\",\"milis\":500},{\"cmd\":\"set\",\"led_id_from\":20,\"led_id_to\":24,\"color\":[0,255,0]},{\"cmd\":\"sleep\",\"milis\":500},{\"cmd\":\"set\",\"led_id_from\":25,\"led_id_to\":29,\"color\":[0,255,0]},{\"cmd\":\"sleep\",\"milis\":1000},{\"cmd\":\"set\",\"led_id_from\":0,\"led_id_to\":29,\"color\":[255,165,0]},{\"cmd\":\"sleep\",\"milis\":500},{\"cmd\":\"set\",\"led_id_from\":0,\"led_id_to\":29,\"color\":[255,0,0]},{\"cmd\":\"sleep\",\"milis\":500},{\"cmd\":\"set\",\"led_id_from\":0,\"led_id_to\":29,\"color\":[0,255,0]},{\"cmd\":\"sleep\",\"milis\":500},{\"cmd\":\"repeat\",\"repeat\":true}]}'"
      ]
     },
     "execution_count": 227,
     "metadata": {},
     "output_type": "execute_result"
    }
   ],
   "source": [
    "response.model_dump_json()"
   ]
  },
  {
   "cell_type": "markdown",
   "id": "266943b6-8bf4-4e33-bcb1-8b90f816898d",
   "metadata": {},
   "source": [
    "## Task Planning"
   ]
  },
  {
   "cell_type": "code",
   "execution_count": 186,
   "id": "b5154e2c-7424-4265-9034-247c1eb6c923",
   "metadata": {},
   "outputs": [],
   "source": [
    "LEDPLAN_SYSTEM_MSG = \"\"\"\n",
    "You are an AI light art designer specializing in LED-based media art installations.\n",
    "\n",
    "Context: \n",
    "- The LED strip is arranged in a zigzag pattern on a tree structure\n",
    "- Each LED can be individually controlled (on/off, brightness, color)\n",
    "- Focus only on LED control sequences, not maintenance\n",
    "\n",
    "Task:\n",
    "1. Interpret the emotional intent from the user's request\n",
    "2. Convert emotions into precise LED control sequences\n",
    "3. Generate a sequential task list for LED animation\n",
    "\n",
    "Output Format:\n",
    "- Tasks should be listed in chronological order\n",
    "- No explanatory text or headers/footers\n",
    "- Only include direct control commands\n",
    "- \"action\" must be describe a sentence how LED lights works\n",
    "\n",
    "Input Format:\n",
    "User requests will be provided in <query> tags\n",
    "\n",
    "Constraints:\n",
    "- TaskIds must be unique integers\n",
    "- Only output LED control sequences\n",
    "- No maintenance instructions\n",
    "- No explanatory text\n",
    "- Do not repeat subset of list.\n",
    "- Repeat only can set on final task and it must describe whether to repeat the entire list.\n",
    "\"\"\".strip()\n",
    "\n",
    "LEDPLAN_HUMAN_QUERY=\"\"\"\n",
    "Query:\n",
    "<query>\n",
    "    <num_of_leds>{num_of_leds}</num_of_leds>\n",
    "    <description>{query}</description>\n",
    "</query>\n",
    "\n",
    "Commands:\n",
    "\"\"\".strip()\n",
    "\n",
    "template2 = ChatPromptTemplate.from_messages([\n",
    "    (\"system\", LEDPLAN_SYSTEM_MSG),\n",
    "    (\"human\",LEDPLAN_HUMAN_QUERY),\n",
    "])"
   ]
  },
  {
   "cell_type": "code",
   "execution_count": 43,
   "id": "c4ef7219-0d91-4f00-b577-1fef1d2c2f2c",
   "metadata": {},
   "outputs": [],
   "source": [
    "num_of_leds2 = 7\n",
    "query2 = \"Exciting christmas party with Santa Claus\"\n",
    "\n",
    "messages2 = template2.format_messages(num_of_leds=num_of_leds2, query=query2)"
   ]
  },
  {
   "cell_type": "code",
   "execution_count": 44,
   "id": "fe4cb078-fd45-4560-bcd9-9cff0df9de78",
   "metadata": {},
   "outputs": [
    {
     "name": "stdout",
     "output_type": "stream",
     "text": [
      "<task id=\"1\" action=\"Set LED 1 to red at full brightness\"/>\n",
      "<task id=\"2\" action=\"Set LED 2 to green at full brightness\"/>\n",
      "<task id=\"3\" action=\"Set LED 3 to red at full brightness\"/>\n",
      "<task id=\"4\" action=\"Set LED 4 to green at full brightness\"/>\n",
      "<task id=\"5\" action=\"Set LED 5 to red at full brightness\"/>\n",
      "<task id=\"6\" action=\"Set LED 6 to green at full brightness\"/>\n",
      "<task id=\"7\" action=\"Set LED 7 to red at full brightness\"/>\n",
      "<task id=\"8\" action=\"Wait for 1 second\"/>\n",
      "<task id=\"9\" action=\"Set LED 1 to green at full brightness\"/>\n",
      "<task id=\"10\" action=\"Set LED 2 to red at full brightness\"/>\n",
      "<task id=\"11\" action=\"Set LED 3 to green at full brightness\"/>\n",
      "<task id=\"12\" action=\"Set LED 4 to red at full brightness\"/>\n",
      "<task id=\"13\" action=\"Set LED 5 to green at full brightness\"/>\n",
      "<task id=\"14\" action=\"Set LED 6 to red at full brightness\"/>\n",
      "<task id=\"15\" action=\"Set LED 7 to green at full brightness\"/>\n",
      "<task id=\"16\" action=\"Wait for 1 second\"/>\n",
      "<task id=\"17\" action=\"Repeat tasks from 1 to 16\"/>\n"
     ]
    }
   ],
   "source": [
    "ai_msg2 = bedrock_chat.invoke(messages2)\n",
    "print(ai_msg2.content)"
   ]
  },
  {
   "cell_type": "code",
   "execution_count": 160,
   "id": "ec0d02a2-01e7-4e0d-871e-ab106f5df84a",
   "metadata": {},
   "outputs": [],
   "source": [
    "class LedTask(BaseModel):\n",
    "    \"\"\"A subtask to create LED commands.\"\"\"\n",
    "    taskid: int\n",
    "    action: str\n",
    "\n",
    "class LedTaskPlans(BaseModel):\n",
    "    \"\"\"List of task plans to controlling LEDs. It contains subtasks.\"\"\"\n",
    "    subtasks: List[LedTask]\n",
    "\n",
    "class LedTaskResult(BaseModel):\n",
    "    \"\"\"A results of subtask. It contains subtask id and LED commands\"\"\"\n",
    "    taskid: int\n",
    "    result: LedCommandList"
   ]
  },
  {
   "cell_type": "code",
   "execution_count": 50,
   "id": "7343e00e-ead0-4d22-9a9d-4fc08d7d7171",
   "metadata": {},
   "outputs": [],
   "source": [
    "num_of_leds = 7\n",
    "query = \"Exciting christmas party with Santa Claus\"\n",
    "\n",
    "chain2 = template2 | bedrock_chat.with_structured_output(LedTaskPlans)\n",
    "\n",
    "response2 = chain2.invoke({\"num_of_leds\":num_of_leds, \"query\": query})"
   ]
  },
  {
   "cell_type": "code",
   "execution_count": 51,
   "id": "6f1ad1cc-9822-48dc-ac78-df2348f6a116",
   "metadata": {},
   "outputs": [
    {
     "data": {
      "text/plain": [
       "[LedTask(taskid=1, action='Set LED 1 to red at full brightness'),\n",
       " LedTask(taskid=2, action='Set LED 2 to green at full brightness'),\n",
       " LedTask(taskid=3, action='Set LED 3 to red at full brightness'),\n",
       " LedTask(taskid=4, action='Set LED 4 to green at full brightness'),\n",
       " LedTask(taskid=5, action='Set LED 5 to red at full brightness'),\n",
       " LedTask(taskid=6, action='Set LED 6 to green at full brightness'),\n",
       " LedTask(taskid=7, action='Set LED 7 to red at full brightness'),\n",
       " LedTask(taskid=8, action='Wait for 1 second'),\n",
       " LedTask(taskid=9, action='Turn off all LEDs'),\n",
       " LedTask(taskid=10, action='Repeat tasks 1 to 9 indefinitely')]"
      ]
     },
     "execution_count": 51,
     "metadata": {},
     "output_type": "execute_result"
    }
   ],
   "source": [
    "response2.subtasks"
   ]
  },
  {
   "cell_type": "markdown",
   "id": "7b1a5d9e-0b6f-4e86-a6b0-e2e8a7738e6e",
   "metadata": {},
   "source": [
    "## Build with LangGraph"
   ]
  },
  {
   "cell_type": "code",
   "execution_count": 239,
   "id": "3053f7ef-2b5c-450c-bfa1-5efd2eaf8482",
   "metadata": {},
   "outputs": [],
   "source": [
    "import operator\n",
    "from typing import Annotated, TypedDict, List, Dict, Union\n",
    "class AgentState(TypedDict):\n",
    "    \"\"\"Agnet's overall state\"\"\"\n",
    "    query: str\n",
    "    num_of_leds: int\n",
    "    tasks: Annotated[List[LedTask], operator.add]\n",
    "    results: Annotated[List[LedTaskResult], operator.add]\n",
    "    final_result: List[LedCommandList] \n",
    "\n",
    "class SubtaskState(TypedDict):\n",
    "    \"\"\"A subtask states for parallel execution\"\"\"\n",
    "    num_of_leds: int\n",
    "    task: LedTask"
   ]
  },
  {
   "cell_type": "code",
   "execution_count": 240,
   "id": "5fc18291-23f7-4fbe-89b5-d2e0e81ccb3d",
   "metadata": {},
   "outputs": [],
   "source": [
    "def create_plan(state: AgentState) -> AgentState:\n",
    "    \"\"\"Task planning: break down subtasks for complete the task of user input\"\"\"\n",
    "    prompt = ChatPromptTemplate.from_messages([\n",
    "        (\"system\", LEDPLAN_SYSTEM_MSG),\n",
    "        (\"human\",LEDPLAN_HUMAN_QUERY),\n",
    "    ])\n",
    "    \n",
    "    chain = prompt | bedrock_chat.with_structured_output(LedTaskPlans)\n",
    "    response = chain.invoke({\"query\": state[\"query\"], \"num_of_leds\": state[\"num_of_leds\"]})\n",
    "    \n",
    "    return {\"tasks\": response.subtasks}"
   ]
  },
  {
   "cell_type": "code",
   "execution_count": 241,
   "id": "5e4891a6-1903-40ba-a748-9ddee7c81b33",
   "metadata": {},
   "outputs": [],
   "source": [
    "def create_led_command_task(state: SubtaskState) -> Dict:\n",
    "    \"\"\"create LED commands: generate control command for subtask\"\"\"\n",
    "    prompt = template = ChatPromptTemplate.from_messages([\n",
    "        (\"system\", LEDCMD_SYSTEM_MSG),\n",
    "        (\"human\",LEDCMD_HUMAN_QUERY),\n",
    "    ])\n",
    "    chain = prompt | bedrock_chat.with_structured_output(LedCommandList)\n",
    "    response = chain.invoke({\"query\": state[\"task\"].action, \"num_of_leds\": state[\"num_of_leds\"]})\n",
    "    return { \"results\" : [{\"taskid\": state[\"task\"].taskid, \"result\": response}] }"
   ]
  },
  {
   "cell_type": "code",
   "execution_count": 242,
   "id": "329a4819-6e9d-4a9f-ae87-b2e1e1885dd8",
   "metadata": {},
   "outputs": [],
   "source": [
    "def continue_to_led_command_task(state: AgentState):\n",
    "    \"\"\"Task distrubution: task distribution for parallel processing\"\"\"\n",
    "    # Create parallel branches for evaluating each solution\n",
    "    branches = [Send(\"execute_tasks\", {\"num_of_leds\": state[\"num_of_leds\"], \"task\":s}) for s in state[\"tasks\"]]\n",
    "    return branches\n"
   ]
  },
  {
   "cell_type": "code",
   "execution_count": 243,
   "id": "ab234794-89ce-4d92-9c18-58ead0e05384",
   "metadata": {},
   "outputs": [],
   "source": [
    "def combine_results(state: AgentState) -> AgentState:\n",
    "    \"\"\"Aggregation: re-order LED commands sequencely\"\"\"\n",
    "    sorted_results = sorted(state[\"results\"], key=lambda x: x[\"taskid\"])\n",
    "    return { \"final_result\": sorted_results }"
   ]
  },
  {
   "cell_type": "code",
   "execution_count": 244,
   "id": "bfb7e4cb-f470-4cff-a3b4-4e8a70b6627c",
   "metadata": {},
   "outputs": [],
   "source": [
    "from langgraph.graph import StateGraph, START, END\n",
    "from langgraph.types import Send\n",
    "\n",
    "def create_graph():\n",
    "    # 상태 그래프 생성\n",
    "    workflow = StateGraph(AgentState)\n",
    "    \n",
    "    # 작업 계획 노드 추가\n",
    "    workflow.add_node(\"create_plan\", create_plan)\n",
    "    \n",
    "    # 병렬 실행 노드 추가\n",
    "    workflow.add_node(\"execute_tasks\", create_led_command_task)\n",
    "    \n",
    "    # 결과 취합 노드 추가\n",
    "    workflow.add_node(\"combine_results\", combine_results)\n",
    "    \n",
    "    # 엣지 연결\n",
    "    workflow.add_edge(START, \"create_plan\")\n",
    "    workflow.add_conditional_edges(\"create_plan\", continue_to_led_command_task, [\"execute_tasks\"])\n",
    "    workflow.add_edge(\"execute_tasks\", \"combine_results\")\n",
    "    workflow.add_edge(\"combine_results\", END)\n",
    "    \n",
    "    # 그래프 컴파일\n",
    "    graph = workflow.compile()\n",
    "    \n",
    "    return graph"
   ]
  },
  {
   "cell_type": "code",
   "execution_count": 245,
   "id": "336fcb6f-cb37-475b-82da-8f5a33f745d4",
   "metadata": {},
   "outputs": [
    {
     "data": {
      "image/png": "[encoded data removed]",
      "text/plain": [
       "<IPython.core.display.Image object>"
      ]
     },
     "metadata": {},
     "output_type": "display_data"
    }
   ],
   "source": [
    "# 그래프 생성\n",
    "graph = create_graph()\n",
    "\n",
    "from IPython.display import Image, display\n",
    "from langchain_core.runnables.graph import CurveStyle, MermaidDrawMethod, NodeStyles\n",
    "\n",
    "display(\n",
    "    Image(\n",
    "        graph.get_graph().draw_mermaid_png(\n",
    "            draw_method=MermaidDrawMethod.API,\n",
    "        )\n",
    "    )\n",
    ")"
   ]
  },
  {
   "cell_type": "code",
   "execution_count": 168,
   "id": "b24c2c58-5e21-464f-ac2f-5020210d57e0",
   "metadata": {},
   "outputs": [
    {
     "name": "stdout",
     "output_type": "stream",
     "text": [
      "중간 결과: {'create_plan': {'tasks': [LedTask(taskid=1, action=\"set_led(led=1, on=True, brightness=100, color='white')\"), LedTask(taskid=2, action='wait(seconds=0.5)'), LedTask(taskid=3, action='set_led(led=1, on=False)'), LedTask(taskid=4, action='wait(seconds=0.5)'), LedTask(taskid=5, action=\"set_led(led=1, on=True, brightness=100, color='white')\"), LedTask(taskid=6, action='wait(seconds=0.5)'), LedTask(taskid=7, action='set_led(led=1, on=False)'), LedTask(taskid=8, action='wait(seconds=0.5)'), LedTask(taskid=9, action='repeat_sequence(times=2)')]}}\n",
      "중간 결과: {'execute_tasks': {'results': [{'taskid': 2, 'result': None}]}}\n",
      "중간 결과: {'execute_tasks': {'results': [{'taskid': 6, 'result': None}]}}\n",
      "중간 결과: {'execute_tasks': {'results': [{'taskid': 3, 'result': LedCommandList(commands=[SetCommand(cmd='set', led_id_from=1, led_id_to=1, color=[0, 0, 0])])}]}}\n",
      "중간 결과: {'execute_tasks': {'results': [{'taskid': 4, 'result': None}]}}\n",
      "중간 결과: {'execute_tasks': {'results': [{'taskid': 5, 'result': LedCommandList(commands=[SetCommand(cmd='set', led_id_from=1, led_id_to=1, color=[255, 255, 255])])}]}}\n",
      "중간 결과: {'execute_tasks': {'results': [{'taskid': 7, 'result': LedCommandList(commands=[SetCommand(cmd='set', led_id_from=1, led_id_to=1, color=[0, 0, 0])])}]}}\n",
      "중간 결과: {'execute_tasks': {'results': [{'taskid': 8, 'result': LedCommandList(commands=[SleepCommand(cmd='sleep', milis=500)])}]}}\n",
      "중간 결과: {'execute_tasks': {'results': [{'taskid': 1, 'result': LedCommandList(commands=[SetCommand(cmd='set', led_id_from=1, led_id_to=1, color=[255, 255, 255]), SleepCommand(cmd='sleep', milis=1000)])}]}}\n",
      "중간 결과: {'execute_tasks': {'results': [{'taskid': 9, 'result': LedCommandList(commands=[SetCommand(cmd='set', led_id_from=0, led_id_to=0, color=[255, 0, 0]), SleepCommand(cmd='sleep', milis=500), SetCommand(cmd='set', led_id_from=1, led_id_to=1, color=[0, 255, 0]), SleepCommand(cmd='sleep', milis=500), SetCommand(cmd='set', led_id_from=2, led_id_to=2, color=[0, 0, 255]), SleepCommand(cmd='sleep', milis=500), RepeatCommand(cmd='repeat', repeat=True)])}]}}\n",
      "중간 결과: {'combine_results': {'final_result': [{'taskid': 1, 'result': LedCommandList(commands=[SetCommand(cmd='set', led_id_from=1, led_id_to=1, color=[255, 255, 255]), SleepCommand(cmd='sleep', milis=1000)])}, {'taskid': 2, 'result': None}, {'taskid': 3, 'result': LedCommandList(commands=[SetCommand(cmd='set', led_id_from=1, led_id_to=1, color=[0, 0, 0])])}, {'taskid': 4, 'result': None}, {'taskid': 5, 'result': LedCommandList(commands=[SetCommand(cmd='set', led_id_from=1, led_id_to=1, color=[255, 255, 255])])}, {'taskid': 6, 'result': None}, {'taskid': 7, 'result': LedCommandList(commands=[SetCommand(cmd='set', led_id_from=1, led_id_to=1, color=[0, 0, 0])])}, {'taskid': 8, 'result': LedCommandList(commands=[SleepCommand(cmd='sleep', milis=500)])}, {'taskid': 9, 'result': LedCommandList(commands=[SetCommand(cmd='set', led_id_from=0, led_id_to=0, color=[255, 0, 0]), SleepCommand(cmd='sleep', milis=500), SetCommand(cmd='set', led_id_from=1, led_id_to=1, color=[0, 255, 0]), SleepCommand(cmd='sleep', milis=500), SetCommand(cmd='set', led_id_from=2, led_id_to=2, color=[0, 0, 255]), SleepCommand(cmd='sleep', milis=500), RepeatCommand(cmd='repeat', repeat=True)])}]}}\n"
     ]
    }
   ],
   "source": [
    "# 초기 상태 설정\n",
    "initial_state = {\n",
    "    \"query\": \"blink twice like a star\",\n",
    "    \"num_of_leds\": 3,\n",
    "    \"tasks\": [],\n",
    "    \"results\": [],\n",
    "    \"final_result\": \"\"\n",
    "}\n",
    "\n",
    "for event in graph.stream(initial_state, config={\"verbose\": True}):\n",
    "     print(f\"중간 결과: {event}\")"
   ]
  },
  {
   "cell_type": "code",
   "execution_count": 207,
   "id": "a70db9e0-9fc9-4226-940c-f5c572168c29",
   "metadata": {},
   "outputs": [
    {
     "data": {
      "text/plain": [
       "{'query': 'blink twice like a star',\n",
       " 'num_of_leds': 3,\n",
       " 'tasks': [LedTask(taskid=1, action='Turn on all 3 LEDs at full brightness'),\n",
       "  LedTask(taskid=2, action='Turn off all LEDs'),\n",
       "  LedTask(taskid=3, action='Turn on all 3 LEDs at full brightness'),\n",
       "  LedTask(taskid=4, action='Turn off all LEDs'),\n",
       "  LedTask(taskid=5, action='Repeat tasks 1 through 4 twice to create a blinking effect like a star')],\n",
       " 'results': [{'taskid': 1,\n",
       "   'result': LedCommandList(commands=[SetCommand(cmd='set', led_id_from=0, led_id_to=2, color=[255, 255, 255]), SleepCommand(cmd='sleep', milis=1000)])},\n",
       "  {'taskid': 2,\n",
       "   'result': LedCommandList(commands=[SetCommand(cmd='set', led_id_from=0, led_id_to=2, color=[0, 0, 0]), SleepCommand(cmd='sleep', milis=1000)])},\n",
       "  {'taskid': 3,\n",
       "   'result': LedCommandList(commands=[SetCommand(cmd='set', led_id_from=0, led_id_to=2, color=[255, 255, 255]), SleepCommand(cmd='sleep', milis=1000)])},\n",
       "  {'taskid': 4,\n",
       "   'result': LedCommandList(commands=[SetCommand(cmd='set', led_id_from=0, led_id_to=2, color=[0, 0, 0]), SleepCommand(cmd='sleep', milis=1000)])},\n",
       "  {'taskid': 5,\n",
       "   'result': LedCommandList(commands=[SetCommand(cmd='set', led_id_from=0, led_id_to=2, color=[255, 255, 255]), SleepCommand(cmd='sleep', milis=1000), SetCommand(cmd='set', led_id_from=0, led_id_to=2, color=[0, 0, 0]), SleepCommand(cmd='sleep', milis=1000), SetCommand(cmd='set', led_id_from=0, led_id_to=2, color=[255, 255, 255]), SleepCommand(cmd='sleep', milis=1000), SetCommand(cmd='set', led_id_from=0, led_id_to=2, color=[0, 0, 0]), SleepCommand(cmd='sleep', milis=1000), RepeatCommand(cmd='repeat', repeat=True)])}],\n",
       " 'final_result': [{'taskid': 1,\n",
       "   'result': LedCommandList(commands=[SetCommand(cmd='set', led_id_from=0, led_id_to=2, color=[255, 255, 255]), SleepCommand(cmd='sleep', milis=1000)])},\n",
       "  {'taskid': 2,\n",
       "   'result': LedCommandList(commands=[SetCommand(cmd='set', led_id_from=0, led_id_to=2, color=[0, 0, 0]), SleepCommand(cmd='sleep', milis=1000)])},\n",
       "  {'taskid': 3,\n",
       "   'result': LedCommandList(commands=[SetCommand(cmd='set', led_id_from=0, led_id_to=2, color=[255, 255, 255]), SleepCommand(cmd='sleep', milis=1000)])},\n",
       "  {'taskid': 4,\n",
       "   'result': LedCommandList(commands=[SetCommand(cmd='set', led_id_from=0, led_id_to=2, color=[0, 0, 0]), SleepCommand(cmd='sleep', milis=1000)])},\n",
       "  {'taskid': 5,\n",
       "   'result': LedCommandList(commands=[SetCommand(cmd='set', led_id_from=0, led_id_to=2, color=[255, 255, 255]), SleepCommand(cmd='sleep', milis=1000), SetCommand(cmd='set', led_id_from=0, led_id_to=2, color=[0, 0, 0]), SleepCommand(cmd='sleep', milis=1000), SetCommand(cmd='set', led_id_from=0, led_id_to=2, color=[255, 255, 255]), SleepCommand(cmd='sleep', milis=1000), SetCommand(cmd='set', led_id_from=0, led_id_to=2, color=[0, 0, 0]), SleepCommand(cmd='sleep', milis=1000), RepeatCommand(cmd='repeat', repeat=True)])}]}"
      ]
     },
     "execution_count": 207,
     "metadata": {},
     "output_type": "execute_result"
    }
   ],
   "source": [
    "# 그래프 실행\n",
    "result = graph.invoke(initial_state)\n",
    "\n",
    "result"
   ]
  },
  {
   "cell_type": "code",
   "execution_count": 208,
   "id": "da74585c-b77b-455a-b456-a61c39067407",
   "metadata": {},
   "outputs": [
    {
     "name": "stdout",
     "output_type": "stream",
     "text": [
      "[SetCommand(cmd='set', led_id_from=0, led_id_to=2, color=[255, 255, 255]),\n",
      " SleepCommand(cmd='sleep', milis=1000),\n",
      " SetCommand(cmd='set', led_id_from=0, led_id_to=2, color=[0, 0, 0]),\n",
      " SleepCommand(cmd='sleep', milis=1000),\n",
      " SetCommand(cmd='set', led_id_from=0, led_id_to=2, color=[255, 255, 255]),\n",
      " SleepCommand(cmd='sleep', milis=1000),\n",
      " SetCommand(cmd='set', led_id_from=0, led_id_to=2, color=[0, 0, 0]),\n",
      " SleepCommand(cmd='sleep', milis=1000),\n",
      " SetCommand(cmd='set', led_id_from=0, led_id_to=2, color=[255, 255, 255]),\n",
      " SleepCommand(cmd='sleep', milis=1000),\n",
      " SetCommand(cmd='set', led_id_from=0, led_id_to=2, color=[0, 0, 0]),\n",
      " SleepCommand(cmd='sleep', milis=1000),\n",
      " SetCommand(cmd='set', led_id_from=0, led_id_to=2, color=[255, 255, 255]),\n",
      " SleepCommand(cmd='sleep', milis=1000),\n",
      " SetCommand(cmd='set', led_id_from=0, led_id_to=2, color=[0, 0, 0]),\n",
      " SleepCommand(cmd='sleep', milis=1000),\n",
      " RepeatCommand(cmd='repeat', repeat=True)]\n"
     ]
    }
   ],
   "source": [
    "led = LedCommandList(commands=[])\n",
    "\n",
    "for c in result['final_result']:\n",
    "    led.commands += c['result'].commands\n",
    "\n",
    "from pprint import pprint\n",
    "pprint(led.commands)"
   ]
  },
  {
   "cell_type": "code",
   "execution_count": 209,
   "id": "b868d2cf-9a58-4d0b-b61d-5a334d60fa1d",
   "metadata": {},
   "outputs": [
    {
     "data": {
      "text/plain": [
       "'{\"commands\":[{\"cmd\":\"set\",\"led_id_from\":0,\"led_id_to\":2,\"color\":[255,255,255]},{\"cmd\":\"sleep\",\"milis\":1000},{\"cmd\":\"set\",\"led_id_from\":0,\"led_id_to\":2,\"color\":[0,0,0]},{\"cmd\":\"sleep\",\"milis\":1000},{\"cmd\":\"set\",\"led_id_from\":0,\"led_id_to\":2,\"color\":[255,255,255]},{\"cmd\":\"sleep\",\"milis\":1000},{\"cmd\":\"set\",\"led_id_from\":0,\"led_id_to\":2,\"color\":[0,0,0]},{\"cmd\":\"sleep\",\"milis\":1000},{\"cmd\":\"set\",\"led_id_from\":0,\"led_id_to\":2,\"color\":[255,255,255]},{\"cmd\":\"sleep\",\"milis\":1000},{\"cmd\":\"set\",\"led_id_from\":0,\"led_id_to\":2,\"color\":[0,0,0]},{\"cmd\":\"sleep\",\"milis\":1000},{\"cmd\":\"set\",\"led_id_from\":0,\"led_id_to\":2,\"color\":[255,255,255]},{\"cmd\":\"sleep\",\"milis\":1000},{\"cmd\":\"set\",\"led_id_from\":0,\"led_id_to\":2,\"color\":[0,0,0]},{\"cmd\":\"sleep\",\"milis\":1000},{\"cmd\":\"repeat\",\"repeat\":true}]}'"
      ]
     },
     "execution_count": 209,
     "metadata": {},
     "output_type": "execute_result"
    }
   ],
   "source": [
    "led.model_dump_json()"
   ]
  },
  {
   "cell_type": "code",
   "execution_count": 246,
   "id": "5799a9ef-4634-489b-970f-a6a5c0874de6",
   "metadata": {},
   "outputs": [
    {
     "data": {
      "text/plain": [
       "{'query': 'Exciting christmas party with Santa Claus. Santa Claus, dressed in red, walks in while dancing with a green bag. Exciting music and lights continue throughout the party. It would be nice if the color changes slightly and shakes.',\n",
       " 'num_of_leds': 30,\n",
       " 'tasks': [LedTask(taskid=1, action=\"Turn on all LEDs with a bright red color to represent Santa's suit.\"),\n",
       "  LedTask(taskid=2, action=\"Slowly fade in a green color on a few LEDs to represent Santa's bag.\"),\n",
       "  LedTask(taskid=3, action='Make the green LEDs blink rapidly to simulate dancing movements.'),\n",
       "  LedTask(taskid=4, action='Alternate between red and green colors on all LEDs in a wave-like pattern to create an exciting, festive atmosphere.'),\n",
       "  LedTask(taskid=5, action='Slightly change the hue of the red and green colors to add variation and make the lights appear to shake.'),\n",
       "  LedTask(taskid=6, action='Repeat the entire sequence to continue the exciting Christmas party ambiance.')],\n",
       " 'results': [{'taskid': 1,\n",
       "   'result': LedCommandList(commands=[SetCommand(cmd='set', led_id_from=0, led_id_to=29, color=[255, 0, 0]), SleepCommand(cmd='sleep', milis=10000)])},\n",
       "  {'taskid': 2,\n",
       "   'result': LedCommandList(commands=[SetCommand(cmd='set', led_id_from=0, led_id_to=29, color=[0, 0, 0]), SetCommand(cmd='set', led_id_from=10, led_id_to=15, color=[0, 128, 0]), SleepCommand(cmd='sleep', milis=2000), SetCommand(cmd='set', led_id_from=10, led_id_to=15, color=[0, 192, 0]), SleepCommand(cmd='sleep', milis=2000), SetCommand(cmd='set', led_id_from=10, led_id_to=15, color=[0, 255, 0]), SleepCommand(cmd='sleep', milis=5000), RepeatCommand(cmd='repeat', repeat=False)])},\n",
       "  {'taskid': 3,\n",
       "   'result': LedCommandList(commands=[SetCommand(cmd='set', led_id_from=0, led_id_to=29, color=[0, 255, 0]), SleepCommand(cmd='sleep', milis=200), SetCommand(cmd='set', led_id_from=0, led_id_to=29, color=[0, 0, 0]), SleepCommand(cmd='sleep', milis=200), RepeatCommand(cmd='repeat', repeat=True)])},\n",
       "  {'taskid': 4,\n",
       "   'result': LedCommandList(commands=[SetCommand(cmd='set', led_id_from=0, led_id_to=29, color=[255, 0, 0]), SleepCommand(cmd='sleep', milis=500), SetCommand(cmd='set', led_id_from=1, led_id_to=28, color=[0, 255, 0]), SleepCommand(cmd='sleep', milis=500), SetCommand(cmd='set', led_id_from=2, led_id_to=27, color=[255, 0, 0]), SleepCommand(cmd='sleep', milis=500), SetCommand(cmd='set', led_id_from=3, led_id_to=26, color=[0, 255, 0]), SleepCommand(cmd='sleep', milis=500), SetCommand(cmd='set', led_id_from=4, led_id_to=25, color=[255, 0, 0]), SleepCommand(cmd='sleep', milis=500), SetCommand(cmd='set', led_id_from=5, led_id_to=24, color=[0, 255, 0]), SleepCommand(cmd='sleep', milis=500), SetCommand(cmd='set', led_id_from=6, led_id_to=23, color=[255, 0, 0]), SleepCommand(cmd='sleep', milis=500), SetCommand(cmd='set', led_id_from=7, led_id_to=22, color=[0, 255, 0]), SleepCommand(cmd='sleep', milis=500), SetCommand(cmd='set', led_id_from=8, led_id_to=21, color=[255, 0, 0]), SleepCommand(cmd='sleep', milis=500), SetCommand(cmd='set', led_id_from=9, led_id_to=20, color=[0, 255, 0]), SleepCommand(cmd='sleep', milis=500), SetCommand(cmd='set', led_id_from=10, led_id_to=19, color=[255, 0, 0]), SleepCommand(cmd='sleep', milis=500), SetCommand(cmd='set', led_id_from=11, led_id_to=18, color=[0, 255, 0]), SleepCommand(cmd='sleep', milis=500), SetCommand(cmd='set', led_id_from=12, led_id_to=17, color=[255, 0, 0]), SleepCommand(cmd='sleep', milis=500), SetCommand(cmd='set', led_id_from=13, led_id_to=16, color=[0, 255, 0]), SleepCommand(cmd='sleep', milis=500), SetCommand(cmd='set', led_id_from=14, led_id_to=15, color=[255, 0, 0]), SleepCommand(cmd='sleep', milis=1000), SetCommand(cmd='set', led_id_from=0, led_id_to=29, color=[0, 0, 0]), RepeatCommand(cmd='repeat', repeat=True)])},\n",
       "  {'taskid': 5,\n",
       "   'result': LedCommandList(commands=[SetCommand(cmd='set', led_id_from=0, led_id_to=29, color=[255, 0, 0]), SleepCommand(cmd='sleep', milis=500), SetCommand(cmd='set', led_id_from=0, led_id_to=29, color=[255, 50, 0]), SleepCommand(cmd='sleep', milis=500), SetCommand(cmd='set', led_id_from=0, led_id_to=29, color=[255, 100, 0]), SleepCommand(cmd='sleep', milis=500), SetCommand(cmd='set', led_id_from=0, led_id_to=29, color=[255, 150, 0]), SleepCommand(cmd='sleep', milis=500), SetCommand(cmd='set', led_id_from=0, led_id_to=29, color=[255, 200, 0]), SleepCommand(cmd='sleep', milis=500), SetCommand(cmd='set', led_id_from=0, led_id_to=29, color=[255, 255, 0]), SleepCommand(cmd='sleep', milis=500), SetCommand(cmd='set', led_id_from=0, led_id_to=29, color=[200, 255, 0]), SleepCommand(cmd='sleep', milis=500), SetCommand(cmd='set', led_id_from=0, led_id_to=29, color=[150, 255, 0]), SleepCommand(cmd='sleep', milis=500), SetCommand(cmd='set', led_id_from=0, led_id_to=29, color=[100, 255, 0]), SleepCommand(cmd='sleep', milis=500), SetCommand(cmd='set', led_id_from=0, led_id_to=29, color=[50, 255, 0]), SleepCommand(cmd='sleep', milis=500), SetCommand(cmd='set', led_id_from=0, led_id_to=29, color=[0, 255, 0]), SleepCommand(cmd='sleep', milis=1000)])},\n",
       "  {'taskid': 6,\n",
       "   'result': LedCommandList(commands=[SetCommand(cmd='set', led_id_from=0, led_id_to=29, color=[0, 0, 0]), SetCommand(cmd='set', led_id_from=0, led_id_to=4, color=[255, 0, 0]), SetCommand(cmd='set', led_id_from=5, led_id_to=9, color=[0, 255, 0]), SetCommand(cmd='set', led_id_from=10, led_id_to=14, color=[255, 165, 0]), SetCommand(cmd='set', led_id_from=15, led_id_to=19, color=[255, 0, 255]), SetCommand(cmd='set', led_id_from=20, led_id_to=24, color=[0, 0, 255]), SetCommand(cmd='set', led_id_from=25, led_id_to=29, color=[255, 255, 0]), SleepCommand(cmd='sleep', milis=3000), SetCommand(cmd='set', led_id_from=0, led_id_to=29, color=[0, 0, 0]), RepeatCommand(cmd='repeat', repeat=True)])}],\n",
       " 'final_result': [{'taskid': 1,\n",
       "   'result': LedCommandList(commands=[SetCommand(cmd='set', led_id_from=0, led_id_to=29, color=[255, 0, 0]), SleepCommand(cmd='sleep', milis=10000)])},\n",
       "  {'taskid': 2,\n",
       "   'result': LedCommandList(commands=[SetCommand(cmd='set', led_id_from=0, led_id_to=29, color=[0, 0, 0]), SetCommand(cmd='set', led_id_from=10, led_id_to=15, color=[0, 128, 0]), SleepCommand(cmd='sleep', milis=2000), SetCommand(cmd='set', led_id_from=10, led_id_to=15, color=[0, 192, 0]), SleepCommand(cmd='sleep', milis=2000), SetCommand(cmd='set', led_id_from=10, led_id_to=15, color=[0, 255, 0]), SleepCommand(cmd='sleep', milis=5000), RepeatCommand(cmd='repeat', repeat=False)])},\n",
       "  {'taskid': 3,\n",
       "   'result': LedCommandList(commands=[SetCommand(cmd='set', led_id_from=0, led_id_to=29, color=[0, 255, 0]), SleepCommand(cmd='sleep', milis=200), SetCommand(cmd='set', led_id_from=0, led_id_to=29, color=[0, 0, 0]), SleepCommand(cmd='sleep', milis=200), RepeatCommand(cmd='repeat', repeat=True)])},\n",
       "  {'taskid': 4,\n",
       "   'result': LedCommandList(commands=[SetCommand(cmd='set', led_id_from=0, led_id_to=29, color=[255, 0, 0]), SleepCommand(cmd='sleep', milis=500), SetCommand(cmd='set', led_id_from=1, led_id_to=28, color=[0, 255, 0]), SleepCommand(cmd='sleep', milis=500), SetCommand(cmd='set', led_id_from=2, led_id_to=27, color=[255, 0, 0]), SleepCommand(cmd='sleep', milis=500), SetCommand(cmd='set', led_id_from=3, led_id_to=26, color=[0, 255, 0]), SleepCommand(cmd='sleep', milis=500), SetCommand(cmd='set', led_id_from=4, led_id_to=25, color=[255, 0, 0]), SleepCommand(cmd='sleep', milis=500), SetCommand(cmd='set', led_id_from=5, led_id_to=24, color=[0, 255, 0]), SleepCommand(cmd='sleep', milis=500), SetCommand(cmd='set', led_id_from=6, led_id_to=23, color=[255, 0, 0]), SleepCommand(cmd='sleep', milis=500), SetCommand(cmd='set', led_id_from=7, led_id_to=22, color=[0, 255, 0]), SleepCommand(cmd='sleep', milis=500), SetCommand(cmd='set', led_id_from=8, led_id_to=21, color=[255, 0, 0]), SleepCommand(cmd='sleep', milis=500), SetCommand(cmd='set', led_id_from=9, led_id_to=20, color=[0, 255, 0]), SleepCommand(cmd='sleep', milis=500), SetCommand(cmd='set', led_id_from=10, led_id_to=19, color=[255, 0, 0]), SleepCommand(cmd='sleep', milis=500), SetCommand(cmd='set', led_id_from=11, led_id_to=18, color=[0, 255, 0]), SleepCommand(cmd='sleep', milis=500), SetCommand(cmd='set', led_id_from=12, led_id_to=17, color=[255, 0, 0]), SleepCommand(cmd='sleep', milis=500), SetCommand(cmd='set', led_id_from=13, led_id_to=16, color=[0, 255, 0]), SleepCommand(cmd='sleep', milis=500), SetCommand(cmd='set', led_id_from=14, led_id_to=15, color=[255, 0, 0]), SleepCommand(cmd='sleep', milis=1000), SetCommand(cmd='set', led_id_from=0, led_id_to=29, color=[0, 0, 0]), RepeatCommand(cmd='repeat', repeat=True)])},\n",
       "  {'taskid': 5,\n",
       "   'result': LedCommandList(commands=[SetCommand(cmd='set', led_id_from=0, led_id_to=29, color=[255, 0, 0]), SleepCommand(cmd='sleep', milis=500), SetCommand(cmd='set', led_id_from=0, led_id_to=29, color=[255, 50, 0]), SleepCommand(cmd='sleep', milis=500), SetCommand(cmd='set', led_id_from=0, led_id_to=29, color=[255, 100, 0]), SleepCommand(cmd='sleep', milis=500), SetCommand(cmd='set', led_id_from=0, led_id_to=29, color=[255, 150, 0]), SleepCommand(cmd='sleep', milis=500), SetCommand(cmd='set', led_id_from=0, led_id_to=29, color=[255, 200, 0]), SleepCommand(cmd='sleep', milis=500), SetCommand(cmd='set', led_id_from=0, led_id_to=29, color=[255, 255, 0]), SleepCommand(cmd='sleep', milis=500), SetCommand(cmd='set', led_id_from=0, led_id_to=29, color=[200, 255, 0]), SleepCommand(cmd='sleep', milis=500), SetCommand(cmd='set', led_id_from=0, led_id_to=29, color=[150, 255, 0]), SleepCommand(cmd='sleep', milis=500), SetCommand(cmd='set', led_id_from=0, led_id_to=29, color=[100, 255, 0]), SleepCommand(cmd='sleep', milis=500), SetCommand(cmd='set', led_id_from=0, led_id_to=29, color=[50, 255, 0]), SleepCommand(cmd='sleep', milis=500), SetCommand(cmd='set', led_id_from=0, led_id_to=29, color=[0, 255, 0]), SleepCommand(cmd='sleep', milis=1000)])},\n",
       "  {'taskid': 6,\n",
       "   'result': LedCommandList(commands=[SetCommand(cmd='set', led_id_from=0, led_id_to=29, color=[0, 0, 0]), SetCommand(cmd='set', led_id_from=0, led_id_to=4, color=[255, 0, 0]), SetCommand(cmd='set', led_id_from=5, led_id_to=9, color=[0, 255, 0]), SetCommand(cmd='set', led_id_from=10, led_id_to=14, color=[255, 165, 0]), SetCommand(cmd='set', led_id_from=15, led_id_to=19, color=[255, 0, 255]), SetCommand(cmd='set', led_id_from=20, led_id_to=24, color=[0, 0, 255]), SetCommand(cmd='set', led_id_from=25, led_id_to=29, color=[255, 255, 0]), SleepCommand(cmd='sleep', milis=3000), SetCommand(cmd='set', led_id_from=0, led_id_to=29, color=[0, 0, 0]), RepeatCommand(cmd='repeat', repeat=True)])}]}"
      ]
     },
     "execution_count": 246,
     "metadata": {},
     "output_type": "execute_result"
    }
   ],
   "source": [
    "# 좀 더 복잡한 쿼리를 날려보자\n",
    "\n",
    "query = \"Exciting christmas party with Santa Claus. Santa Claus, dressed in red, walks in while dancing with a green bag. Exciting music and lights continue throughout the party. It would be nice if the color changes slightly and shakes.\"\n",
    "initial_state = {\n",
    "    \"query\": query,\n",
    "    \"num_of_leds\": 30,\n",
    "    \"tasks\": [],\n",
    "    \"results\": [],\n",
    "    \"final_result\": \"\"\n",
    "}\n",
    "\n",
    "result = graph.invoke(initial_state)\n",
    "\n",
    "result"
   ]
  },
  {
   "cell_type": "code",
   "execution_count": 250,
   "id": "c2cb5353-434f-4f9b-a111-7f3b42560a02",
   "metadata": {},
   "outputs": [
    {
     "name": "stdout",
     "output_type": "stream",
     "text": [
      "[SetCommand(cmd='set', led_id_from=0, led_id_to=29, color=[255, 0, 0]),\n",
      " SleepCommand(cmd='sleep', milis=10000),\n",
      " SetCommand(cmd='set', led_id_from=0, led_id_to=29, color=[0, 0, 0]),\n",
      " SetCommand(cmd='set', led_id_from=10, led_id_to=15, color=[0, 128, 0]),\n",
      " SleepCommand(cmd='sleep', milis=2000),\n",
      " SetCommand(cmd='set', led_id_from=10, led_id_to=15, color=[0, 192, 0]),\n",
      " SleepCommand(cmd='sleep', milis=2000),\n",
      " SetCommand(cmd='set', led_id_from=10, led_id_to=15, color=[0, 255, 0]),\n",
      " SleepCommand(cmd='sleep', milis=5000),\n",
      " RepeatCommand(cmd='repeat', repeat=False),\n",
      " SetCommand(cmd='set', led_id_from=0, led_id_to=29, color=[0, 255, 0]),\n",
      " SleepCommand(cmd='sleep', milis=200),\n",
      " SetCommand(cmd='set', led_id_from=0, led_id_to=29, color=[0, 0, 0]),\n",
      " SleepCommand(cmd='sleep', milis=200),\n",
      " RepeatCommand(cmd='repeat', repeat=True),\n",
      " SetCommand(cmd='set', led_id_from=0, led_id_to=29, color=[255, 0, 0]),\n",
      " SleepCommand(cmd='sleep', milis=500),\n",
      " SetCommand(cmd='set', led_id_from=1, led_id_to=28, color=[0, 255, 0]),\n",
      " SleepCommand(cmd='sleep', milis=500),\n",
      " SetCommand(cmd='set', led_id_from=2, led_id_to=27, color=[255, 0, 0]),\n",
      " SleepCommand(cmd='sleep', milis=500),\n",
      " SetCommand(cmd='set', led_id_from=3, led_id_to=26, color=[0, 255, 0]),\n",
      " SleepCommand(cmd='sleep', milis=500),\n",
      " SetCommand(cmd='set', led_id_from=4, led_id_to=25, color=[255, 0, 0]),\n",
      " SleepCommand(cmd='sleep', milis=500),\n",
      " SetCommand(cmd='set', led_id_from=5, led_id_to=24, color=[0, 255, 0]),\n",
      " SleepCommand(cmd='sleep', milis=500),\n",
      " SetCommand(cmd='set', led_id_from=6, led_id_to=23, color=[255, 0, 0]),\n",
      " SleepCommand(cmd='sleep', milis=500),\n",
      " SetCommand(cmd='set', led_id_from=7, led_id_to=22, color=[0, 255, 0]),\n",
      " SleepCommand(cmd='sleep', milis=500),\n",
      " SetCommand(cmd='set', led_id_from=8, led_id_to=21, color=[255, 0, 0]),\n",
      " SleepCommand(cmd='sleep', milis=500),\n",
      " SetCommand(cmd='set', led_id_from=9, led_id_to=20, color=[0, 255, 0]),\n",
      " SleepCommand(cmd='sleep', milis=500),\n",
      " SetCommand(cmd='set', led_id_from=10, led_id_to=19, color=[255, 0, 0]),\n",
      " SleepCommand(cmd='sleep', milis=500),\n",
      " SetCommand(cmd='set', led_id_from=11, led_id_to=18, color=[0, 255, 0]),\n",
      " SleepCommand(cmd='sleep', milis=500),\n",
      " SetCommand(cmd='set', led_id_from=12, led_id_to=17, color=[255, 0, 0]),\n",
      " SleepCommand(cmd='sleep', milis=500),\n",
      " SetCommand(cmd='set', led_id_from=13, led_id_to=16, color=[0, 255, 0]),\n",
      " SleepCommand(cmd='sleep', milis=500),\n",
      " SetCommand(cmd='set', led_id_from=14, led_id_to=15, color=[255, 0, 0]),\n",
      " SleepCommand(cmd='sleep', milis=1000),\n",
      " SetCommand(cmd='set', led_id_from=0, led_id_to=29, color=[0, 0, 0]),\n",
      " RepeatCommand(cmd='repeat', repeat=True),\n",
      " SetCommand(cmd='set', led_id_from=0, led_id_to=29, color=[255, 0, 0]),\n",
      " SleepCommand(cmd='sleep', milis=500),\n",
      " SetCommand(cmd='set', led_id_from=0, led_id_to=29, color=[255, 50, 0]),\n",
      " SleepCommand(cmd='sleep', milis=500),\n",
      " SetCommand(cmd='set', led_id_from=0, led_id_to=29, color=[255, 100, 0]),\n",
      " SleepCommand(cmd='sleep', milis=500),\n",
      " SetCommand(cmd='set', led_id_from=0, led_id_to=29, color=[255, 150, 0]),\n",
      " SleepCommand(cmd='sleep', milis=500),\n",
      " SetCommand(cmd='set', led_id_from=0, led_id_to=29, color=[255, 200, 0]),\n",
      " SleepCommand(cmd='sleep', milis=500),\n",
      " SetCommand(cmd='set', led_id_from=0, led_id_to=29, color=[255, 255, 0]),\n",
      " SleepCommand(cmd='sleep', milis=500),\n",
      " SetCommand(cmd='set', led_id_from=0, led_id_to=29, color=[200, 255, 0]),\n",
      " SleepCommand(cmd='sleep', milis=500),\n",
      " SetCommand(cmd='set', led_id_from=0, led_id_to=29, color=[150, 255, 0]),\n",
      " SleepCommand(cmd='sleep', milis=500),\n",
      " SetCommand(cmd='set', led_id_from=0, led_id_to=29, color=[100, 255, 0]),\n",
      " SleepCommand(cmd='sleep', milis=500),\n",
      " SetCommand(cmd='set', led_id_from=0, led_id_to=29, color=[50, 255, 0]),\n",
      " SleepCommand(cmd='sleep', milis=500),\n",
      " SetCommand(cmd='set', led_id_from=0, led_id_to=29, color=[0, 255, 0]),\n",
      " SleepCommand(cmd='sleep', milis=1000),\n",
      " SetCommand(cmd='set', led_id_from=0, led_id_to=29, color=[0, 0, 0]),\n",
      " SetCommand(cmd='set', led_id_from=0, led_id_to=4, color=[255, 0, 0]),\n",
      " SetCommand(cmd='set', led_id_from=5, led_id_to=9, color=[0, 255, 0]),\n",
      " SetCommand(cmd='set', led_id_from=10, led_id_to=14, color=[255, 165, 0]),\n",
      " SetCommand(cmd='set', led_id_from=15, led_id_to=19, color=[255, 0, 255]),\n",
      " SetCommand(cmd='set', led_id_from=20, led_id_to=24, color=[0, 0, 255]),\n",
      " SetCommand(cmd='set', led_id_from=25, led_id_to=29, color=[255, 255, 0]),\n",
      " SleepCommand(cmd='sleep', milis=3000),\n",
      " SetCommand(cmd='set', led_id_from=0, led_id_to=29, color=[0, 0, 0]),\n",
      " RepeatCommand(cmd='repeat', repeat=True)]\n"
     ]
    }
   ],
   "source": [
    "led = LedCommandList(commands=[])\n",
    "\n",
    "for c in result['final_result']:\n",
    "    led.commands += c['result'].commands\n",
    "\n",
    "from pprint import pprint\n",
    "pprint(led.commands)"
   ]
  }
 ],
 "metadata": {
  "kernelspec": {
   "display_name": "conda_pytorch_p310",
   "language": "python",
   "name": "conda_pytorch_p310"
  },
  "language_info": {
   "codemirror_mode": {
    "name": "ipython",
    "version": 3
   },
   "file_extension": ".py",
   "mimetype": "text/x-python",
   "name": "python",
   "nbconvert_exporter": "python",
   "pygments_lexer": "ipython3",
   "version": "3.10.14"
  }
 },
 "nbformat": 4,
 "nbformat_minor": 5
}
